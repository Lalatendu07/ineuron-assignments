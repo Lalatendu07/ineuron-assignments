{
 "cells": [
  {
   "cell_type": "markdown",
   "id": "714b238d",
   "metadata": {},
   "source": [
    "#### 1. Add the current date to the text file today.txt as a string."
   ]
  },
  {
   "cell_type": "code",
   "execution_count": 2,
   "id": "eff52529",
   "metadata": {},
   "outputs": [],
   "source": [
    "import datetime\n",
    "with open('today.txt','w') as file:\n",
    "    file.write(datetime.datetime.now().strftime(\"%d-%m-%Y\"))\n",
    "    file.close()"
   ]
  },
  {
   "cell_type": "markdown",
   "id": "50964bcb",
   "metadata": {},
   "source": [
    "#### 2. Read the text file today.txt into the string today_string"
   ]
  },
  {
   "cell_type": "code",
   "execution_count": 7,
   "id": "9934bb49",
   "metadata": {},
   "outputs": [
    {
     "name": "stdout",
     "output_type": "stream",
     "text": [
      "02-11-2022\n"
     ]
    }
   ],
   "source": [
    "with open('today.txt','r') as file:\n",
    "    today_string=file.read()\n",
    "    print(today_string)"
   ]
  },
  {
   "cell_type": "markdown",
   "id": "fdbe69ae",
   "metadata": {},
   "source": [
    "#### 3. Parse the date from today_string."
   ]
  },
  {
   "cell_type": "code",
   "execution_count": 8,
   "id": "84215343",
   "metadata": {},
   "outputs": [
    {
     "name": "stdout",
     "output_type": "stream",
     "text": [
      "2022-11-02 00:00:00\n"
     ]
    }
   ],
   "source": [
    "from datetime import datetime\n",
    "parsed_data = datetime.strptime(today_string, '%d-%m-%Y')\n",
    "print(parsed_data)"
   ]
  },
  {
   "cell_type": "markdown",
   "id": "965670e3",
   "metadata": {},
   "source": [
    "#### 4. List the files in your current directory"
   ]
  },
  {
   "cell_type": "code",
   "execution_count": 19,
   "id": "7a1549a8",
   "metadata": {},
   "outputs": [
    {
     "name": "stdout",
     "output_type": "stream",
     "text": [
      "!qhlogs.doc\n",
      "5.txt\n",
      "desktop.ini\n",
      "lala.xlsx\n",
      "pygam.txt\n",
      "pygame.html\n",
      "Python assignment 1.txt\n",
      "Python assignment 10.txt\n",
      "Python assignment 11.txt\n",
      "Python assignment 12.txt\n",
      "Python assignment 13.txt\n",
      "Python assignment 14.txt\n",
      "Python assignment 15.txt\n",
      "Python assignment 16.txt\n",
      "Python assignment 17.txt\n",
      "Python assignment 2.txt\n",
      "Python assignment 3.txt\n",
      "Python assignment 4.txt\n",
      "Python assignment 5.txt\n",
      "Python assignment 6.txt\n",
      "Python assignment 7.txt\n",
      "Python assignment 8.txt\n",
      "Python assignment 9.txt\n",
      "sportsref_download.xls\n",
      "desktop.ini\n",
      "desktop.ini\n",
      "WelcomeFax.tif\n",
      "desktop.ini\n",
      "desktop.ini\n",
      "Welcome Scan.jpg\n"
     ]
    }
   ],
   "source": [
    "import os\n",
    "for folders, subfolders, files in os.walk('Documents'):\n",
    "    for file in files:\n",
    "        print(file)"
   ]
  },
  {
   "cell_type": "markdown",
   "id": "4ad5e2b1",
   "metadata": {},
   "source": [
    "#### 5. Create a list of all of the files in your parent directory (minimum five files should be available)."
   ]
  },
  {
   "cell_type": "code",
   "execution_count": 21,
   "id": "397ee703",
   "metadata": {},
   "outputs": [
    {
     "data": {
      "text/plain": [
       "['!qhlogs.doc',\n",
       " '5.txt',\n",
       " 'desktop.ini',\n",
       " 'Fax',\n",
       " 'lala.xlsx',\n",
       " 'My Music',\n",
       " 'My Pictures',\n",
       " 'My Videos',\n",
       " 'pygam.txt',\n",
       " 'pygame.html',\n",
       " 'Python assignment 1.txt',\n",
       " 'Python assignment 10.txt',\n",
       " 'Python assignment 11.txt',\n",
       " 'Python assignment 12.txt',\n",
       " 'Python assignment 13.txt',\n",
       " 'Python assignment 14.txt',\n",
       " 'Python assignment 15.txt',\n",
       " 'Python assignment 16.txt',\n",
       " 'Python assignment 17.txt',\n",
       " 'Python assignment 2.txt',\n",
       " 'Python assignment 3.txt',\n",
       " 'Python assignment 4.txt',\n",
       " 'Python assignment 5.txt',\n",
       " 'Python assignment 6.txt',\n",
       " 'Python assignment 7.txt',\n",
       " 'Python assignment 8.txt',\n",
       " 'Python assignment 9.txt',\n",
       " 'Python Scripts',\n",
       " 'Scanned Documents',\n",
       " 'sportsref_download.xls',\n",
       " 'The KMPlayer',\n",
       " 'Zoom']"
      ]
     },
     "execution_count": 21,
     "metadata": {},
     "output_type": "execute_result"
    }
   ],
   "source": [
    "import os \n",
    "os.listdir('Documents')"
   ]
  },
  {
   "cell_type": "markdown",
   "id": "748e7cc9",
   "metadata": {},
   "source": [
    "#### 6. Use multiprocessing to create three separate processes. Make each one wait a random number of seconds between one and five, print the current time, and then exit."
   ]
  },
  {
   "cell_type": "code",
   "execution_count": 30,
   "id": "1b2b95aa",
   "metadata": {},
   "outputs": [],
   "source": [
    "import multiprocessing\n",
    "import time \n",
    "import random\n",
    "import datetime\n",
    "\n",
    "def procOne():\n",
    "    print(f'Process_one_Starttime -> {datetime.datetime.now()}')\n",
    "    time.sleep(random.randint(1,5))\n",
    "    print(f'Process_one_Endtime -> {datetime.datetime.now()}')\n",
    "    \n",
    "def procTwo():\n",
    "    print(f'Process_two_Starttime -> {datetime.datetime.now()}')\n",
    "    time.sleep(random.randint(1,5))\n",
    "    print(f'Process_two_Endtime -> {datetime.datetime.now()}')\n",
    "\n",
    "def procThree():\n",
    "    print(f'Process_three_Starttime -> {datetime.datetime.now()}')\n",
    "    time.sleep(random.randint(1,5))\n",
    "    print(f'Process_three_Endtime -> {datetime.datetime.now()}')\n",
    "    \n",
    "if __name__ == \"__main__\":    \n",
    "    p1 = multiprocessing.Process(target=procOne)\n",
    "    p2 = multiprocessing.Process(target=procTwo)\n",
    "    p3 = multiprocessing.Process(target=procThree)\n",
    "\n",
    "    p1.start()\n",
    "    p2.start()\n",
    "    p3.start()\n",
    "    \n",
    "    p1.join()\n",
    "    p2.join()\n",
    "    p3.join()"
   ]
  },
  {
   "cell_type": "markdown",
   "id": "896d1be7",
   "metadata": {},
   "source": [
    "Due to some unknown reason. the above did not print any results in the jupyter cell. so i copied the code to a python file. executed it and pasted the ouput here\n",
    "\n",
    "`C:\\Users\\user\\anaconda3\\envs\\PycharmProjects\\python.exe C:/Users/user/PycharmProjects/pythonProject/main.py`\n",
    "`Process_one_Starttime -> 2022-11-02 22:52:20.570172`\n",
    "`Process_two_Starttime -> 2022-11-02 22:52:20.601423`\n",
    "`Process_three_Starttime -> 2022-11-02 22:52:20.617050`\n",
    "`Process_one_Endtime -> 2022-11-02 22:52:24.571796`\n",
    "`Process_two_Endtime -> 2022-11-02 22:52:25.603170`\n",
    "`Process_three_Endtime -> 2022-11-02 22:52:25.618670`\n",
    "\n",
    "`Process finished with exit code 0`\n"
   ]
  },
  {
   "cell_type": "markdown",
   "id": "edbe1225",
   "metadata": {},
   "source": [
    "#### 7. Create a date object of your day of birth."
   ]
  },
  {
   "cell_type": "code",
   "execution_count": 34,
   "id": "e6ef1e12",
   "metadata": {},
   "outputs": [
    {
     "name": "stdout",
     "output_type": "stream",
     "text": [
      "2000-12-29 00:00:00\n"
     ]
    }
   ],
   "source": [
    "from datetime import datetime\n",
    "my_dob = datetime.strptime('29/12/2000','%d/%m/%Y')\n",
    "print(my_dob)"
   ]
  },
  {
   "cell_type": "markdown",
   "id": "7693583a",
   "metadata": {},
   "source": [
    "#### 8. What day of the week was your day of birth?"
   ]
  },
  {
   "cell_type": "code",
   "execution_count": 42,
   "id": "cce2b3e4",
   "metadata": {},
   "outputs": [
    {
     "data": {
      "text/plain": [
       "'Friday'"
      ]
     },
     "execution_count": 42,
     "metadata": {},
     "output_type": "execute_result"
    }
   ],
   "source": [
    "from datetime import datetime\n",
    "my_dob = datetime(2000,12,29)\n",
    "my_dob.strftime(\"%A\")"
   ]
  },
  {
   "cell_type": "markdown",
   "id": "2959c792",
   "metadata": {},
   "source": [
    "#### 9. When will you be (or when were you) 10,000 days old?"
   ]
  },
  {
   "cell_type": "code",
   "execution_count": 45,
   "id": "6bdf9777",
   "metadata": {},
   "outputs": [
    {
     "data": {
      "text/plain": [
       "datetime.datetime(1973, 8, 13, 0, 0)"
      ]
     },
     "execution_count": 45,
     "metadata": {},
     "output_type": "execute_result"
    }
   ],
   "source": [
    "from datetime import datetime, timedelta\n",
    "my_dob = datetime.strptime(\"29/12/2000\",'%d/%m/%Y')\n",
    "future_date = my_dob-timedelta(10000)\n",
    "future_date"
   ]
  },
  {
   "cell_type": "code",
   "execution_count": null,
   "id": "0f55bbac",
   "metadata": {},
   "outputs": [],
   "source": []
  }
 ],
 "metadata": {
  "kernelspec": {
   "display_name": "Python 3 (ipykernel)",
   "language": "python",
   "name": "python3"
  },
  "language_info": {
   "codemirror_mode": {
    "name": "ipython",
    "version": 3
   },
   "file_extension": ".py",
   "mimetype": "text/x-python",
   "name": "python",
   "nbconvert_exporter": "python",
   "pygments_lexer": "ipython3",
   "version": "3.9.12"
  }
 },
 "nbformat": 4,
 "nbformat_minor": 5
}
