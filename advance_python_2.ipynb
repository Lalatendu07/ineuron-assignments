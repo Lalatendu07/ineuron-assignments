{
  "nbformat": 4,
  "nbformat_minor": 0,
  "metadata": {
    "colab": {
      "provenance": []
    },
    "kernelspec": {
      "name": "python3",
      "display_name": "Python 3"
    },
    "language_info": {
      "name": "python"
    }
  },
  "cells": [
    {
      "cell_type": "markdown",
      "source": [
        "#### Q1. What is the relationship between classes and modules?"
      ],
      "metadata": {
        "id": "wQN1KyEt5h0M"
      }
    },
    {
      "cell_type": "markdown",
      "source": [
        "Ans: A Python class is like an outline/blueprint/mold for creating a new object. An object is anything that you wish to manipulate or change while working through the code. Every time a class object is instantiated, which is when we declare a variable, a new object is initiated from scratch.\n",
        "\n",
        "Whereas in Python, Modules are simply files with the . py extension containing Python code that can be imported inside another Python Program. In simple terms, we can consider a module to be the same as a code library or a file that contains a set of functions/Classes that you want to include in your application."
      ],
      "metadata": {
        "id": "6R3Wfhaj5rUk"
      }
    },
    {
      "cell_type": "markdown",
      "source": [
        "#### Q2. How do you make instances and classes?"
      ],
      "metadata": {
        "id": "ZXdMfhoA6gFd"
      }
    },
    {
      "cell_type": "markdown",
      "source": [
        "Ans: For creating a class instance we call a class by its name and pass the arguments which its __ init__ method accepts.\n",
        "\n",
        "Example: Man = employee('Male',20000), Here 'Man' is an instance of class employee with attriubutes 'Male' and 20000.\n",
        "\n",
        "Whereas for creating a class, we use the Class keyword. Class keyword is followed by classname and semicolon.\n",
        "\n",
        "Example: Here Employee is a class created with class keyword with arguments gender and salary.\n",
        "\n",
        "class Employee:\n",
        " def __ init__(self, gender,salary):\n",
        "   self.gender = gender\n",
        "   self.salary = salary"
      ],
      "metadata": {
        "id": "I8Sv5_zk6uFO"
      }
    },
    {
      "cell_type": "markdown",
      "source": [
        "#### Q3. Where and how should be class attributes created?"
      ],
      "metadata": {
        "id": "2p2o9srN7rzE"
      }
    },
    {
      "cell_type": "markdown",
      "source": [
        "Ans: Class attributes or Class level Attributes belong to the class itself. These attributes will be shared by all the instances of the class. Hence these attributes are usually created/defined in the top of class definiation outside all methods.\n",
        "\n",
        "Example: In the below code we are defining a class attribute called no_of_wheels which will be shared by all the instances of the class Car.\n",
        "\n",
        "class Car: no_of_wheels = 4; # this is a class attribute def __ init__(self,color,price,engine): self.color = color # All this are instance attributes self.price = price self.engine = engine"
      ],
      "metadata": {
        "id": "6PK23u4b789q"
      }
    },
    {
      "cell_type": "markdown",
      "source": [
        "#### Q4. Where and how are instance attributes created?"
      ],
      "metadata": {
        "id": "xmtkTp428sGA"
      }
    },
    {
      "cell_type": "markdown",
      "source": [
        "Ans: Instances attributes are passed to the class when an object of the class is created. Unlike class attributes, instance attributes are not shared by all objects of the class instead each object maintains its own copy of instance attributes at object level. Whereas incase of class attributes all instances of class refer to a single copy. Usually instance attributes are defined within the __ init__ method of class\n",
        "\n",
        "Example: In the below sample code we are creating a class Car with instance varaibles color, price, engine, which will be provided when an instance of class Car is created.\n",
        "\n",
        "class Car: def __ init__(self,color,price,engine): self.color = color # All this are instance attributes self.price = price self.engine = engine\n",
        "\n",
        "nexon_ev = Car('Indigo Blue', 1500000, 'electric')\n",
        "safari = Car('Pearl White',2400000, 'petrol')\n",
        "\n",
        "nexon_ev, safari are both the instances of class Car with different instance variables."
      ],
      "metadata": {
        "id": "QdAZmjeJ8v4h"
      }
    },
    {
      "cell_type": "markdown",
      "source": [
        "#### Q5. What does the term \"self\" in a Python class mean?"
      ],
      "metadata": {
        "id": "WY8rDfYk99Mu"
      }
    },
    {
      "cell_type": "markdown",
      "source": [
        "Ans: 'self' represents the instance of the class (it represents the object itself). By using the “self” keyword we can access the attributes and methods of the class with in the class in python. It binds the attributes with the given arguments."
      ],
      "metadata": {
        "id": "P_RrNy_x-cXy"
      }
    },
    {
      "cell_type": "markdown",
      "source": [
        "#### Q6. How does a Python class handle operator overloading?\n"
      ],
      "metadata": {
        "id": "ss3SRlDk-ws4"
      }
    },
    {
      "cell_type": "markdown",
      "source": [
        "Ans: Python Classes handle operator overloading by using special methods called Magic methods. these special methods usually begin and end with '__' (double underscore)\n",
        "Example: Magic methods for basic arithmetic operators are:\n",
        "\n",
        "'/' -> __ div__()\n",
        "\n",
        "'+' -> __ add__()\n",
        "\n",
        "'-' -> __ sub__()\n",
        "\n",
        "'*' -> __ mul__()\n"
      ],
      "metadata": {
        "id": "vEsYSmQq_ZV5"
      }
    },
    {
      "cell_type": "markdown",
      "source": [
        "#### Q7. When do you consider allowing operator overloading of your classes?"
      ],
      "metadata": {
        "id": "mNen8vZGAfO6"
      }
    },
    {
      "cell_type": "markdown",
      "source": [
        "Ans: When we want to have different meaning for the same operator accroding to the context we use operator overloading."
      ],
      "metadata": {
        "id": "_OD1zIUFAmEG"
      }
    },
    {
      "cell_type": "markdown",
      "source": [
        "#### Q8. What is the most popular form of operator overloading?"
      ],
      "metadata": {
        "id": "Ry-eHC2-BDcH"
      }
    },
    {
      "cell_type": "markdown",
      "source": [
        "Ans: The most popular form of operator overloading in python is by special methods called Magic methods. Which usually beign and end with double underscore \"__ method name__\"."
      ],
      "metadata": {
        "id": "wvvb2YeOBUjk"
      }
    },
    {
      "cell_type": "markdown",
      "source": [
        "#### Q9. What are the two most important concepts to grasp in order to comprehend Python OOP code?"
      ],
      "metadata": {
        "id": "M5MLX30bBrDS"
      }
    },
    {
      "cell_type": "markdown",
      "source": [
        "Ans: Classes and objects are the two concepts to comprehend python OOP code as more formally objects are entities that represent instances of general abstract concept called class.\n",
        "\n",
        "Along with classes and objects the important concepts to grasp are:\n",
        "\n",
        "Inheritence, \n",
        "Abstraction, \n",
        "Polymorphism and\n",
        "Encapsulation"
      ],
      "metadata": {
        "id": "colLr2bTB4s5"
      }
    },
    {
      "cell_type": "code",
      "source": [],
      "metadata": {
        "id": "uw5-v8VDCFFY"
      },
      "execution_count": null,
      "outputs": []
    }
  ]
}