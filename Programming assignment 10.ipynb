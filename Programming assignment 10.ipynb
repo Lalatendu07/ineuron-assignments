{
 "cells": [
  {
   "cell_type": "markdown",
   "id": "82374d23",
   "metadata": {},
   "source": [
    "#### 1. Write a Python program to find sum of elements in list?"
   ]
  },
  {
   "cell_type": "code",
   "execution_count": 2,
   "id": "14df597d",
   "metadata": {},
   "outputs": [
    {
     "name": "stdout",
     "output_type": "stream",
     "text": [
      "Enter a list[1,3,7,9,8]\n",
      "Sum is  28\n"
     ]
    }
   ],
   "source": [
    "l=eval(input('Enter a list'))\n",
    "sum_list=0\n",
    "for i in l:\n",
    "    sum_list +=i\n",
    "    \n",
    "print('Sum is ',sum_list)    \n",
    "    "
   ]
  },
  {
   "cell_type": "markdown",
   "id": "319630f3",
   "metadata": {},
   "source": [
    "#### 2. Write a Python program to Multiply all numbers in the list?"
   ]
  },
  {
   "cell_type": "code",
   "execution_count": 5,
   "id": "1c19c587",
   "metadata": {},
   "outputs": [
    {
     "name": "stdout",
     "output_type": "stream",
     "text": [
      "Enter a list[2,3,5,10]\n",
      "Product is  300\n"
     ]
    }
   ],
   "source": [
    "l=eval(input('Enter a list'))\n",
    "multiply_list=1\n",
    "for i in l:\n",
    "    multiply_list = multiply_list * i\n",
    "    \n",
    "print('Product is ',multiply_list)    \n",
    "    "
   ]
  },
  {
   "cell_type": "markdown",
   "id": "8fd91147",
   "metadata": {},
   "source": [
    "#### 3. Write a Python program to find smallest number in a list?"
   ]
  },
  {
   "cell_type": "code",
   "execution_count": 7,
   "id": "2f80fb8d",
   "metadata": {},
   "outputs": [
    {
     "name": "stdout",
     "output_type": "stream",
     "text": [
      "Enter a list [9,34,65,7,22,10,44,66]\n",
      "Smallest number is  7\n"
     ]
    }
   ],
   "source": [
    "l=eval(input('Enter a list '))\n",
    "print('Smallest number is ',min(l))"
   ]
  },
  {
   "cell_type": "markdown",
   "id": "e57cba2a",
   "metadata": {},
   "source": [
    "#### 4. Write a Python program to find largest number in a list?"
   ]
  },
  {
   "cell_type": "code",
   "execution_count": 8,
   "id": "cb4ae4aa",
   "metadata": {},
   "outputs": [
    {
     "name": "stdout",
     "output_type": "stream",
     "text": [
      "Enter a list [12,3,34,59,43,1,33]\n",
      "Largest number is  59\n"
     ]
    }
   ],
   "source": [
    "l=eval(input('Enter a list '))\n",
    "print('Largest number is ',max(l))"
   ]
  },
  {
   "cell_type": "markdown",
   "id": "c34c9ceb",
   "metadata": {},
   "source": [
    "#### 5. Write a Python program to find second largest number in a list?"
   ]
  },
  {
   "cell_type": "code",
   "execution_count": 9,
   "id": "8b4b5876",
   "metadata": {},
   "outputs": [
    {
     "name": "stdout",
     "output_type": "stream",
     "text": [
      "Enter a list [5,46,7,4,33,6,8]\n",
      "Largest number is  33\n"
     ]
    }
   ],
   "source": [
    "l=eval(input('Enter a list '))\n",
    "print('Largest number is ',sorted(l)[-2])"
   ]
  },
  {
   "cell_type": "markdown",
   "id": "ef20ee81",
   "metadata": {},
   "source": [
    "#### 6. Write a Python program to find N largest elements from a list?"
   ]
  },
  {
   "cell_type": "code",
   "execution_count": 10,
   "id": "eee79692",
   "metadata": {},
   "outputs": [
    {
     "name": "stdout",
     "output_type": "stream",
     "text": [
      "Enter a list [2,4,1,5,7,9,3,10]\n",
      "Enter the number of largest elements you want 4\n",
      "4 largest elements are [10, 9, 7, 5]\n"
     ]
    }
   ],
   "source": [
    "l=eval(input('Enter a list '))\n",
    "n=int(input('Enter the number of largest elements you want '))\n",
    "print(f'{n} largest elements are {sorted(l,reverse=True)[0:n]}')"
   ]
  },
  {
   "cell_type": "markdown",
   "id": "84381f91",
   "metadata": {},
   "source": [
    "#### 7. Write a Python program to print even numbers in a list?"
   ]
  },
  {
   "cell_type": "code",
   "execution_count": 11,
   "id": "69daaa3b",
   "metadata": {},
   "outputs": [
    {
     "name": "stdout",
     "output_type": "stream",
     "text": [
      "Enter a list [1,2,3,4,5,6,7,8,9,10]\n",
      "Even numbers are  [2, 4, 6, 8, 10]\n"
     ]
    }
   ],
   "source": [
    "l=eval(input('Enter a list '))\n",
    "even_list=[]\n",
    "for i in l:\n",
    "    if i%2==0:\n",
    "        even_list.append(i)\n",
    "print(\"Even numbers are \",even_list)        \n",
    "        "
   ]
  },
  {
   "cell_type": "markdown",
   "id": "d58c5b4b",
   "metadata": {},
   "source": [
    "#### 8. Write a Python program to print odd numbers in a List?"
   ]
  },
  {
   "cell_type": "code",
   "execution_count": 12,
   "id": "bc5372b9",
   "metadata": {},
   "outputs": [
    {
     "name": "stdout",
     "output_type": "stream",
     "text": [
      "Enter a list [1,2,3,4,5,6,7,8,9,10]\n",
      "Odd numbers are  [1, 3, 5, 7, 9]\n"
     ]
    }
   ],
   "source": [
    "l=eval(input('Enter a list '))\n",
    "odd_list=[]\n",
    "for i in l:\n",
    "    if i%2!=0:\n",
    "        odd_list.append(i)\n",
    "print(\"Odd numbers are \",odd_list) "
   ]
  },
  {
   "cell_type": "markdown",
   "id": "59e9f5d1",
   "metadata": {},
   "source": [
    "#### 9. Write a Python program to Remove empty List from List?"
   ]
  },
  {
   "cell_type": "code",
   "execution_count": 13,
   "id": "376ef0ba",
   "metadata": {},
   "outputs": [
    {
     "name": "stdout",
     "output_type": "stream",
     "text": [
      "Enter a list [1,2,3,4,5,[],6,7]\n",
      "The list  [1, 2, 3, 4, 5, 6, 7]\n"
     ]
    }
   ],
   "source": [
    "l=eval(input('Enter a list '))\n",
    "for i in l:\n",
    "    if [] in l:\n",
    "        l.remove([])\n",
    "print(\"The list \",l) "
   ]
  },
  {
   "cell_type": "markdown",
   "id": "8254f13e",
   "metadata": {},
   "source": [
    "#### 10. Write a Python program to Cloning or Copying a list?"
   ]
  },
  {
   "cell_type": "code",
   "execution_count": 14,
   "id": "d9e5aa5f",
   "metadata": {},
   "outputs": [
    {
     "name": "stdout",
     "output_type": "stream",
     "text": [
      "Enter a list [1,2,3,4,5,6,7,8,9]\n",
      "Original list  [1, 2, 3, 4, 5, 6, 7, 8, 9]\n",
      "Copied list  [1, 2, 3, 4, 5, 6, 7, 8, 9]\n"
     ]
    }
   ],
   "source": [
    "l=eval(input('Enter a list '))\n",
    "print('Original list ',l)\n",
    "copy_l=l.copy()\n",
    "print('Copied list ',copy_l)"
   ]
  },
  {
   "cell_type": "markdown",
   "id": "57f8a183",
   "metadata": {},
   "source": [
    "#### 11. Write a Python program to Count occurrences of an element in a list?"
   ]
  },
  {
   "cell_type": "code",
   "execution_count": 15,
   "id": "d5932fcb",
   "metadata": {},
   "outputs": [
    {
     "name": "stdout",
     "output_type": "stream",
     "text": [
      "Enter a list [1,2,3,4,3,2,1,2,3,4,3,1,1,3,2]\n",
      "Enter the element to find 3\n",
      "There are 5 occurrences of 3 in list [1, 2, 3, 4, 3, 2, 1, 2, 3, 4, 3, 1, 1, 3, 2] \n"
     ]
    }
   ],
   "source": [
    "l=eval(input('Enter a list '))\n",
    "n=int(input('Enter the element to find '))\n",
    "count=0\n",
    "if n in l:\n",
    "    for i in l:\n",
    "        if i==n:\n",
    "            count+=1\n",
    "print(f'There are {count} occurrences of {n} in list {l} ')            "
   ]
  }
 ],
 "metadata": {
  "kernelspec": {
   "display_name": "Python 3 (ipykernel)",
   "language": "python",
   "name": "python3"
  },
  "language_info": {
   "codemirror_mode": {
    "name": "ipython",
    "version": 3
   },
   "file_extension": ".py",
   "mimetype": "text/x-python",
   "name": "python",
   "nbconvert_exporter": "python",
   "pygments_lexer": "ipython3",
   "version": "3.9.12"
  }
 },
 "nbformat": 4,
 "nbformat_minor": 5
}
