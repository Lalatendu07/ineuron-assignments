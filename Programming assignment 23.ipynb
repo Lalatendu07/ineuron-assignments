{
 "cells": [
  {
   "cell_type": "markdown",
   "id": "b0e57a8f",
   "metadata": {},
   "source": [
    "# Question 1\n",
    "#### Create a function that takes a number as an argument and returns True or False depending on whether the number is symmetrical or not. A number is symmetrical when it is the same as its reverse.\n",
    "## Examples\n",
    "`is_symmetrical(7227) ➞ True\n",
    "is_symmetrical(12567) ➞ False\n",
    "is_symmetrical(44444444) ➞ True\n",
    "is_symmetrical(9939) ➞ False\n",
    "is_symmetrical(1112111) ➞ True`"
   ]
  },
  {
   "cell_type": "code",
   "execution_count": 3,
   "id": "0d0d26da",
   "metadata": {},
   "outputs": [
    {
     "name": "stdout",
     "output_type": "stream",
     "text": [
      "is_symmetrical 7227 ➞ True\n",
      "is_symmetrical 12567 ➞ False\n",
      "is_symmetrical 44444444 ➞ True\n",
      "is_symmetrical 9939 ➞ False\n",
      "is_symmetrical 1112111 ➞ True\n"
     ]
    }
   ],
   "source": [
    "def is_symmetrical(num):\n",
    "    if str(num)==str(num)[::-1]:\n",
    "        print(f\"is_symmetrical {num} ➞ True\")\n",
    "    else:\n",
    "        print(f\"is_symmetrical {num} ➞ False\")\n",
    "        \n",
    "is_symmetrical(7227)\n",
    "is_symmetrical(12567)\n",
    "is_symmetrical(44444444)\n",
    "is_symmetrical(9939) \n",
    "is_symmetrical(1112111)         "
   ]
  },
  {
   "cell_type": "markdown",
   "id": "1da48159",
   "metadata": {},
   "source": [
    "# Question 2\n",
    "#### Given a string of numbers separated by a comma and space, return the product of the numbers.\n",
    "## Examples\n",
    "`multiply_nums(\"2, 3\") ➞ 6\n",
    "multiply_nums(\"1, 2, 3, 4\") ➞ 24\n",
    "multiply_nums(\"54, 75, 453, 0\") ➞ 0\n",
    "multiply_nums(\"10, -2\") ➞ -20`"
   ]
  },
  {
   "cell_type": "code",
   "execution_count": 8,
   "id": "ec9bda7b",
   "metadata": {},
   "outputs": [
    {
     "name": "stdout",
     "output_type": "stream",
     "text": [
      "multiply_nums 2, 3 ➞ 6\n",
      "multiply_nums 1, 2, 3, 4 ➞ 24\n",
      "multiply_nums 54, 75, 453, 0 ➞ 0\n",
      "multiply_nums 10, -2 ➞ -20\n"
     ]
    }
   ],
   "source": [
    "def multiply_nums(in_str):\n",
    "    mul=1\n",
    "    string = in_str.replace(' ','').split(',') \n",
    "    for i in string:\n",
    "        mul=mul*int(i)\n",
    "    print(f\"multiply_nums {in_str} ➞ {mul}\") \n",
    "\n",
    "multiply_nums(\"2, 3\")\n",
    "multiply_nums(\"1, 2, 3, 4\")\n",
    "multiply_nums(\"54, 75, 453, 0\")\n",
    "multiply_nums(\"10, -2\")    "
   ]
  },
  {
   "cell_type": "markdown",
   "id": "b3b7a4d9",
   "metadata": {},
   "source": [
    "# Question 3\n",
    "#### Create a function that squares every digit of a number.\n",
    "## Examples\n",
    "`square_digits(9119) ➞ 811181\n",
    "square_digits(2483) ➞ 416649\n",
    "square_digits(3212) ➞ 9414`\n",
    "#### Notes\n",
    "`The function receives an integer and must return an integer.`"
   ]
  },
  {
   "cell_type": "code",
   "execution_count": 12,
   "id": "212e6167",
   "metadata": {},
   "outputs": [
    {
     "name": "stdout",
     "output_type": "stream",
     "text": [
      "square_digits 9119 ➞ 811181\n",
      "square_digits 2483 ➞ 416649\n",
      "square_digits 3212 ➞ 9414\n"
     ]
    }
   ],
   "source": [
    "def square_digits(in_num):\n",
    "    in_list = [str(int(i)**2) for i in str(in_num)]\n",
    "    out_list = ''.join(in_list)\n",
    "    print(f'square_digits {in_num} ➞ {int(out_list)}')\n",
    "\n",
    "square_digits(9119)\n",
    "square_digits(2483)\n",
    "square_digits(3212)\n"
   ]
  },
  {
   "cell_type": "markdown",
   "id": "4e98cace",
   "metadata": {},
   "source": [
    "# Question 4\n",
    "#### Create a function that sorts a list and removes all duplicate items from it.\n",
    "## Examples\n",
    "`setify([1, 3, 3, 5, 5]) ➞ [1, 3, 5]\n",
    "setify([4, 4, 4, 4]) ➞ [4]\n",
    "setify([5, 7, 8, 9, 10, 15]) ➞ [5, 7, 8, 9, 10, 15]\n",
    "setify([3, 3, 3, 2, 1]) ➞ [1, 2, 3]`"
   ]
  },
  {
   "cell_type": "code",
   "execution_count": 13,
   "id": "8b93c591",
   "metadata": {},
   "outputs": [
    {
     "name": "stdout",
     "output_type": "stream",
     "text": [
      "setify [1, 3, 3, 5, 5] ➞ [1, 3, 5]\n",
      "setify [4, 4, 4, 4] ➞ [4]\n",
      "setify [5, 7, 8, 9, 10, 15] ➞ [5, 7, 8, 9, 10, 15]\n",
      "setify [3, 3, 3, 2, 1] ➞ [1, 2, 3]\n"
     ]
    }
   ],
   "source": [
    "def setify(lst):\n",
    "    out_list = sorted(set(lst))\n",
    "    print(f'setify {lst} ➞ {out_list}')\n",
    "\n",
    "setify([1, 3, 3, 5, 5]) \n",
    "setify([4, 4, 4, 4]) \n",
    "setify([5, 7, 8, 9, 10, 15])\n",
    "setify([3, 3, 3, 2, 1])    "
   ]
  },
  {
   "cell_type": "markdown",
   "id": "3c3e70f8",
   "metadata": {},
   "source": [
    "# Question 5\n",
    "#### Create a function that returns the mean of all digits.\n",
    "## Examples\n",
    "`mean(42) ➞ 3\n",
    "mean(12345) ➞ 3\n",
    "mean(666) ➞ 6`\n",
    "#### Notes\n",
    "` The mean of all digits is the sum of digits / how many digits there are (e.g. mean of digits in\n",
    "512 is (5+1+2)/3(number of digits) = 8/3=2).\n",
    " The mean will always be an integer.`"
   ]
  },
  {
   "cell_type": "code",
   "execution_count": 14,
   "id": "f6fb25d8",
   "metadata": {},
   "outputs": [
    {
     "name": "stdout",
     "output_type": "stream",
     "text": [
      "mean 42  ➞ 3\n",
      "mean 12345  ➞ 3\n",
      "mean 666  ➞ 6\n"
     ]
    }
   ],
   "source": [
    "def mean(in_num):\n",
    "    in_list = [int(i) for i in str(in_num)]\n",
    "    out_num = sum(in_list)/len(str(in_num))\n",
    "    print(f'mean {in_num}  ➞ {out_num:.0f}')\n",
    "    \n",
    "mean(42)\n",
    "mean(12345)\n",
    "mean(666)\n",
    "    "
   ]
  },
  {
   "cell_type": "code",
   "execution_count": null,
   "id": "faf5b590",
   "metadata": {},
   "outputs": [],
   "source": []
  }
 ],
 "metadata": {
  "kernelspec": {
   "display_name": "Python 3 (ipykernel)",
   "language": "python",
   "name": "python3"
  },
  "language_info": {
   "codemirror_mode": {
    "name": "ipython",
    "version": 3
   },
   "file_extension": ".py",
   "mimetype": "text/x-python",
   "name": "python",
   "nbconvert_exporter": "python",
   "pygments_lexer": "ipython3",
   "version": "3.9.12"
  }
 },
 "nbformat": 4,
 "nbformat_minor": 5
}
