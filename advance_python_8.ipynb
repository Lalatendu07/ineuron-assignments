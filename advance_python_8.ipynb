{
  "nbformat": 4,
  "nbformat_minor": 0,
  "metadata": {
    "colab": {
      "provenance": []
    },
    "kernelspec": {
      "name": "python3",
      "display_name": "Python 3"
    },
    "language_info": {
      "name": "python"
    }
  },
  "cells": [
    {
      "cell_type": "code",
      "source": [],
      "metadata": {
        "id": "EpLaYzz1gSl_"
      },
      "execution_count": null,
      "outputs": []
    },
    {
      "cell_type": "markdown",
      "source": [
        "#### Q1. What are the two latest user-defined exception constraints in Python 3.X?\n",
        "Ans: raise and assert are the two latest user-defined exception constraints in Python 3.X."
      ],
      "metadata": {
        "id": "n38-XYbDrDhn"
      }
    },
    {
      "cell_type": "markdown",
      "source": [
        "#### Q2. How are class-based exceptions that have been raised matched to handlers?\n",
        "Ans: In python, Users can define custom exceptions by creating a new class. This exception class has to be derived, either directly or indirectly from built-in Exception class. This new exception class like other exceptions can be raised using the raise statement with an optional error message."
      ],
      "metadata": {
        "id": "RbWmGaZcrKGb"
      }
    },
    {
      "cell_type": "markdown",
      "source": [
        "#### Q3. Describe two methods for attaching context information to exception artifacts.\n",
        "Ans: The __process()__ method of LoggerAdapter is where the contextual information is added to the logging output. Its passes the message and keyword arguments of the logging call, and it passes back modified versions of these to use in the call to the underlying logger.\n",
        "\n",
        "Other method that can be used is __exception()__, Logs a message with level ERROR on this logger. The arguments are interpreted as for __debug()__. Exception info is added to the logging message.\n"
      ],
      "metadata": {
        "id": "wT14DmzYrPFS"
      }
    },
    {
      "cell_type": "markdown",
      "source": [
        "#### Q4. Describe two methods for specifying the text of an exception object's error message.\n",
        "Ans: __raise__ and __assert__ are two methods for specifying the text of an exception object's error message.__raise__ statement is used to trigger explicit exception, if certain condition is not as per requirement of programmer, it helps in triggering exception as per need of programmer and logic.\n",
        "\n",
        "There are few assertions that programmer always want to be True to avoid code failure. This type of requirment is fullfilled by __assert__ statement. This statement takes a Boolean Condition output of which if True, further program executes, if output of assert statement is False it raises an Assertion Error."
      ],
      "metadata": {
        "id": "_t-fqGYSrVk2"
      }
    },
    {
      "cell_type": "markdown",
      "source": [
        "#### Q5. Why do you no longer use string-based exceptions?\n",
        "Ans: String-based Exceptions doesn't inherit from Exceptions. So plain exceptions catch all exceptions and not only system."
      ],
      "metadata": {
        "id": "t_D45Q8lrdnT"
      }
    },
    {
      "cell_type": "code",
      "source": [],
      "metadata": {
        "id": "Lg7XmFCwrTXI"
      },
      "execution_count": null,
      "outputs": []
    }
  ]
}