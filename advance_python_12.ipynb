{
  "nbformat": 4,
  "nbformat_minor": 0,
  "metadata": {
    "colab": {
      "provenance": []
    },
    "kernelspec": {
      "name": "python3",
      "display_name": "Python 3"
    },
    "language_info": {
      "name": "python"
    }
  },
  "cells": [
    {
      "cell_type": "markdown",
      "source": [
        "#### Q1. Does assigning a value to a string&#39;s indexed character violate Python&#39;s string immutability?\n",
        "Ans: String’s indexed character cannot to be assigned a New value , as Strings are immutable."
      ],
      "metadata": {
        "id": "lEi-CawfQfOL"
      }
    },
    {
      "cell_type": "markdown",
      "source": [
        "#### Q2. Does using the += operator to concatenate strings violate Python&#39;s string immutability? Why or why not?\n",
        "Ans: __+=__ operator is used to concatenate strings, it does not violate Python’s string immutability Property. Because doing so new creates a new association with data and variable. E.g. str_1=\"a\" and str_1+=\"b. effect of this statements to create string ab and reassign it to variable str_1, any string data is not actually modified."
      ],
      "metadata": {
        "id": "D70AV2HUQphd"
      }
    },
    {
      "cell_type": "markdown",
      "source": [
        "#### Q3. In Python, how many different ways are there to index a character?\n",
        "Ans: A Character in string can be indexed using string name followed by index number of character in square bracket. Positive Indexing i.e. first index is 0 an so on, or Negative Indexing i.e. last letter is -1 and so on can be used to index a character."
      ],
      "metadata": {
        "id": "5umole-VQ68W"
      }
    },
    {
      "cell_type": "markdown",
      "source": [
        "#### Q4. What is the relationship between indexing and slicing?\n",
        "Ans: We can access elements of sequence datatypes by using slicing and indexing. Indexing is used to obtaining individual element while slicing for sequence of elements."
      ],
      "metadata": {
        "id": "h4908O6WRADm"
      }
    },
    {
      "cell_type": "markdown",
      "source": [
        "#### Q5. What is an indexed character&#39;s exact data type? What is the data form of a slicing-generated substring?\n",
        "Ans: Indexed characters and sliced substrings have datatype `String`."
      ],
      "metadata": {
        "id": "dM-7dKKORE3S"
      }
    },
    {
      "cell_type": "markdown",
      "source": [
        "#### Q6. What is the relationship between string and character &quot;types&quot; in Python?\n",
        "Ans: Object that contains sequence of character datatypes are called String."
      ],
      "metadata": {
        "id": "h-CsrckkRM3e"
      }
    },
    {
      "cell_type": "markdown",
      "source": [
        "#### Q7. Identify at least two operators and one method that allow you to combine one or more smaller strings to create a larger string.\n",
        "Ans: +, += and * allow to combine one or more smaller strings to create a larger string. `<string>.join(<sep>)` method joins element of iterable type like list and tuple to get a combined string."
      ],
      "metadata": {
        "id": "000ykch6RUFY"
      }
    },
    {
      "cell_type": "markdown",
      "source": [
        "#### Q8. What is the benefit of first checking the target string with in or not in before using the index method to find a substring?\n",
        "Ans: Checking the target string with in or not Operators before using the index method to find a substring just helps confirming availability of substring and thus avoid raising of ValueError.\n",
        "Example:\n",
        "\n",
        "`in_string = \"ineuron\"`\n",
        "\n",
        "`in_string.index('x') # Raises ValueError`\n",
        "\n",
        "`in_string.index('u') # 3`"
      ],
      "metadata": {
        "id": "QIh5rnPqRiSi"
      }
    },
    {
      "cell_type": "markdown",
      "source": [
        "#### Q9. Which operators and built-in string methods produce simple Boolean (true/false) results?\n",
        "Ans: The String Operators and built-in methods to Produce Simple Boolean (True/False) Results are:\n",
        "\n",
        "* in\n",
        "* not\n",
        "* `<string>.isalpha()`\n",
        "* `<string>.isalnum()`\n",
        "* `<string>.isdecimal()`\n",
        "* `<string>.isdigit()`\n",
        "* `<string>.islower()`\n",
        "* `<string>.isnumeric()`\n",
        "* `<string>.isprintable()`\n",
        "* `<string>.isspace()`\n",
        "* `<string>.istitle()`"
      ],
      "metadata": {
        "id": "bivEPXIxRtCu"
      }
    },
    {
      "cell_type": "code",
      "source": [],
      "metadata": {
        "id": "Lg7XmFCwrTXI"
      },
      "execution_count": null,
      "outputs": []
    }
  ]
}