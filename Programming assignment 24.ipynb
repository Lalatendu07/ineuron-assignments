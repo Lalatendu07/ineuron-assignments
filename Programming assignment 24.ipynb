{
 "cells": [
  {
   "cell_type": "markdown",
   "id": "2b2e31b6",
   "metadata": {},
   "source": [
    "# Question1\n",
    "#### Create a function that takes an integer and returns a list from 1 to the given number, where:\n",
    "#### 1. If the number can be divided evenly by 4, amplify it by 10 (i.e. return 10 times the number).\n",
    "#### 2. If the number cannot be divided evenly by 4, simply return the number.\n",
    "## Examples\n",
    "`amplify(4) ➞ [1, 2, 3, 40]\n",
    "amplify(3) ➞ [1, 2, 3]\n",
    "amplify(25) ➞ [1, 2, 3, 40, 5, 6, 7, 80, 9, 10, 11, 120, 13, 14, 15, 160, 17, 18, 19, 200, 21, 22, 23, 240, 25]`\n",
    "#### Notes\n",
    "` The given integer will always be equal to or greater than 1.\n",
    " Include the number (see example above).\n",
    " To perform this problem with its intended purpose, try doing it with list\n",
    "comprehensions. If that's too difficult, just solve the challenge any way you can.`"
   ]
  },
  {
   "cell_type": "code",
   "execution_count": 1,
   "id": "eeba9252",
   "metadata": {},
   "outputs": [
    {
     "name": "stdout",
     "output_type": "stream",
     "text": [
      "amplify 4 ➞ [1, 2, 3, 40]\n",
      "amplify 3 ➞ [1, 2, 3]\n",
      "amplify 25 ➞ [1, 2, 3, 40, 5, 6, 7, 80, 9, 10, 11, 120, 13, 14, 15, 160, 17, 18, 19, 200, 21, 22, 23, 240, 25]\n"
     ]
    }
   ],
   "source": [
    "def amplify(num):\n",
    "    lst=[]\n",
    "    for i in range(1,num+1):\n",
    "        if i%4==0:\n",
    "            lst.append(i*10)\n",
    "        else:\n",
    "            lst.append(i)\n",
    "    print(f\"amplify {num} ➞ {lst}\")\n",
    "\n",
    "amplify(4)\n",
    "amplify(3)\n",
    "amplify(25)    \n",
    "    \n",
    "            "
   ]
  },
  {
   "cell_type": "markdown",
   "id": "71126229",
   "metadata": {},
   "source": [
    "# Question2\n",
    "#### Create a function that takes a list of numbers and return the number that&#39;s unique.\n",
    "## Examples\n",
    "`unique([3, 3, 3, 7, 3, 3]) ➞ 7\n",
    "unique([0, 0, 0.77, 0, 0]) ➞ 0.77\n",
    "unique([0, 1, 1, 1, 1, 1, 1, 1]) ➞ 0`\n",
    "#### Notes\n",
    "`Test cases will always have exactly one unique number while all others are the same.`"
   ]
  },
  {
   "cell_type": "code",
   "execution_count": 3,
   "id": "8d4582c0",
   "metadata": {},
   "outputs": [
    {
     "name": "stdout",
     "output_type": "stream",
     "text": [
      "unique [3, 3, 3, 7, 3, 3] ➞ 7\n",
      "unique [0, 0, 0.77, 0, 0] ➞ 0.77\n",
      "unique [0, 1, 1, 1, 1, 1, 1, 1] ➞ 0\n"
     ]
    }
   ],
   "source": [
    "def unique(in_list):\n",
    "    out_num = ''\n",
    "    for i in set(in_list):\n",
    "        if in_list.count(i) == 1:\n",
    "            out_num = i\n",
    "    print(f'unique {in_list} ➞ {out_num}')\n",
    "\n",
    "unique([3, 3, 3, 7, 3, 3])\n",
    "unique([0, 0, 0.77, 0, 0])\n",
    "unique([0, 1, 1, 1, 1, 1, 1, 1])"
   ]
  },
  {
   "cell_type": "markdown",
   "id": "3adf532d",
   "metadata": {},
   "source": [
    "# Question3\n",
    "#### Your task is to create a Circle constructor that creates a circle with a radius provided by an argument. The circles constructed must have two getters getArea() (PIr^2) and getPerimeter() (2PI*r) which give both respective areas and perimeter (circumference).\n",
    "\n",
    "#### For help with this class, I have provided you with a Rectangle constructor which you can use as a base example.\n",
    "#### Examples\n",
    "`circy = Circle(11)\n",
    "circy.getArea()`\n",
    "#### Should return 380.132711084365\n",
    "`circy = Circle(4.44)\n",
    "circy.getPerimeter()`\n",
    "#### Should return 27.897342763877365\n",
    "#### Notes\n",
    "`Round results up to the nearest integer.`"
   ]
  },
  {
   "cell_type": "code",
   "execution_count": 4,
   "id": "1d41fd1a",
   "metadata": {},
   "outputs": [
    {
     "name": "stdout",
     "output_type": "stream",
     "text": [
      "Radius ➞ 380\n",
      "Perimeter ➞ 28\n"
     ]
    }
   ],
   "source": [
    "import math\n",
    "\n",
    "class Circle:\n",
    "    def __init__(self, radius):\n",
    "        self.radius = radius\n",
    "    def getArea(self):\n",
    "        print(f'Radius ➞ {round(math.pi*self.radius*self.radius)}')\n",
    "    def getPerimeter(self):\n",
    "        print(f'Perimeter ➞ {round(2*math.pi*self.radius)}')\n",
    "    \n",
    "circy = Circle(11)\n",
    "circy.getArea()\n",
    "\n",
    "circy = Circle(4.44)\n",
    "circy.getPerimeter()"
   ]
  },
  {
   "cell_type": "markdown",
   "id": "331acf4f",
   "metadata": {},
   "source": [
    "# Question4\n",
    "#### Create a function that takes a list of strings and return a list, sorted from shortest to longest.\n",
    "## Examples\n",
    "`sort_by_length([\"Google\", \"Apple\", \"Microsoft\"])\n",
    "➞ [\"Apple\", \"Google\", \"Microsoft\"]\n",
    "sort_by_length([\"Leonardo\", \"Michelangelo\", \"Raphael\", \"Donatello\"])\n",
    "➞ [\"Raphael\", \"Leonardo\", \"Donatello\", \"Michelangelo\"]\n",
    "sort_by_length([\"Turing\", \"Einstein\", \"Jung\"])\n",
    "➞ [\"Jung\", \"Turing\", \"Einstein\"]`\n",
    "#### Notes\n",
    "`All test cases contain lists with strings of different lengths, so you won&#39;t have to deal with\n",
    "multiple strings of the same length.`"
   ]
  },
  {
   "cell_type": "code",
   "execution_count": 5,
   "id": "989e933a",
   "metadata": {},
   "outputs": [
    {
     "name": "stdout",
     "output_type": "stream",
     "text": [
      "['Apple', 'Google', 'Microsoft']\n",
      "['Raphael', 'Leonardo', 'Donatello', 'Michelangelo']\n",
      "['Jung', 'Turing', 'Einstein']\n"
     ]
    }
   ],
   "source": [
    "def sort_by_length(in_list):\n",
    "    print(sorted(in_list,key=len))\n",
    "\n",
    "sort_by_length([\"Google\", \"Apple\", \"Microsoft\"])\n",
    "sort_by_length([\"Leonardo\", \"Michelangelo\", \"Raphael\", \"Donatello\"])\n",
    "sort_by_length([\"Turing\", \"Einstein\", \"Jung\"])"
   ]
  },
  {
   "cell_type": "markdown",
   "id": "df6ba48b",
   "metadata": {},
   "source": [
    "# Question5\n",
    "#### Create a function that validates whether three given integers form a Pythagorean triplet. The sum of the squares of the two smallest integers must equal the square of the largest number to be validated.\n",
    "\n",
    "## Examples\n",
    "#### is_triplet(3, 4, 5) ➞ True\n",
    " `3² + 4² = 25\n",
    " 5² = 25`\n",
    "#### is_triplet(13, 5, 12) ➞ True\n",
    "`5² + 12² = 169\n",
    "13² = 169`\n",
    "#### is_triplet(1, 2, 3) ➞ False\n",
    "`1² + 2² = 5\n",
    "3² = 9`\n",
    "#### Notes\n",
    "`Numbers may not be given in a sorted order.`"
   ]
  },
  {
   "cell_type": "code",
   "execution_count": 6,
   "id": "ced1bd8e",
   "metadata": {},
   "outputs": [
    {
     "name": "stdout",
     "output_type": "stream",
     "text": [
      "(3, 4, 5) ➞ True\n",
      "(13, 5, 12) ➞ True\n",
      "(1, 2, 3) ➞ False\n"
     ]
    }
   ],
   "source": [
    "def is_triplet(x,y,z):\n",
    "    if x<y<z:\n",
    "        if ((x**2+y**2) == (z**2)):\n",
    "            print(f'{x,y,z} ➞ {True}')\n",
    "        else:\n",
    "            print(f'{x,y,z} ➞ {False}')\n",
    "    elif y<z<x:\n",
    "        if ((z**2+y**2) == (x**2)):\n",
    "            print(f'{x,y,z} ➞ {True}')\n",
    "        else:\n",
    "            print(f'{x,y,z} ➞ {False}')\n",
    "    elif z<x<y:\n",
    "        if ((x**2+z**2) == (y**2)):\n",
    "            print(f'{x,y,z} ➞ {True}')\n",
    "        else:\n",
    "            print(f'{x,y,z} ➞ {False}')\n",
    "            \n",
    "is_triplet(3, 4, 5)\n",
    "is_triplet(13, 5, 12)\n",
    "is_triplet(1, 2, 3)            "
   ]
  },
  {
   "cell_type": "code",
   "execution_count": null,
   "id": "826a9dba",
   "metadata": {},
   "outputs": [],
   "source": []
  }
 ],
 "metadata": {
  "kernelspec": {
   "display_name": "Python 3 (ipykernel)",
   "language": "python",
   "name": "python3"
  },
  "language_info": {
   "codemirror_mode": {
    "name": "ipython",
    "version": 3
   },
   "file_extension": ".py",
   "mimetype": "text/x-python",
   "name": "python",
   "nbconvert_exporter": "python",
   "pygments_lexer": "ipython3",
   "version": "3.9.12"
  }
 },
 "nbformat": 4,
 "nbformat_minor": 5
}
