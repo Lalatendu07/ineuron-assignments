{
  "nbformat": 4,
  "nbformat_minor": 0,
  "metadata": {
    "colab": {
      "provenance": []
    },
    "kernelspec": {
      "name": "python3",
      "display_name": "Python 3"
    },
    "language_info": {
      "name": "python"
    }
  },
  "cells": [
    {
      "cell_type": "markdown",
      "source": [
        "#### Q1. What is the purpose of the try statement?\n",
        "Ans: try statement is used for exception handling in python. It consists of a block of risky statements which might cause an exception during runtime, if code within try block raises exception, then the exception will be reverted to the corresponding except block if multiple except blocks are present, else it will be reverted to the default except block. In short try and except in union avoid programs from crashing during runtime due to exceptions.\n"
      ],
      "metadata": {
        "id": "cQz3vKeQkw1h"
      }
    },
    {
      "cell_type": "markdown",
      "source": [
        "#### Q2. What are the two most popular try statement variations?\n",
        "Ans: The Popular try statement variations are:\n",
        "\n",
        "1. try,except\n",
        "\n",
        "2. try,except,finally\n",
        "\n",
        "3. try,except,finally,else\n",
        "\n",
        "The __try__ block is used to check code for exceptions during runtime. i.e. code inside __try__ block will execute completely when there is no error in the program. Whereas the code inside except block will execute whenever the program encounters some error in the preceeding __try__ block.\n",
        "\n",
        "Whereas the code enters the __else__ block if and only if the try clause does not raise an exception. The code in the __finally__ block will execute irrespective of exception."
      ],
      "metadata": {
        "id": "LVLyAb7Gk6SX"
      }
    },
    {
      "cell_type": "markdown",
      "source": [
        "#### Q3. What is the purpose of the raise statement?\n",
        "Ans: __raise__ statement is used to trigger an exception explicitly, if a certain condition is not as per requirement of programmer, __raise__ statement helps in triggering exception as per programming logic."
      ],
      "metadata": {
        "id": "sBzwUnxjlCKj"
      }
    },
    {
      "cell_type": "markdown",
      "source": [
        "#### Q4. What does the assert statement do, and what other statement is it like?\n",
        "Ans: There are few assertions that programmer always want to be true to avoid code failure. This type of requirement is fulfilled by __assert__ statement. This statement takes a boolean condition output of which is True, Further Program Executes. If output of assert statement is False, it raises an Assertion Error."
      ],
      "metadata": {
        "id": "YwqEsoiwlJsr"
      }
    },
    {
      "cell_type": "markdown",
      "source": [
        "#### Q5. What is the purpose of the with/as argument, and what other statement is it like?\n",
        "Ans: __with/as__ statement simplifies use of file handling in python. When we use a __with__ statement for file reading, there is no need for programmer to explicitly takecare of activities like resource deallocation and file closing by using file.close() method. __with__ statement itself ensures proper acquisition and release of resources, this avoids triggering of exceptions if file closing is unknowingly forgotten in the code execution.\n",
        "\n",
        "with open('sample_file.txt','w') as file: file.write('Hello World')"
      ],
      "metadata": {
        "id": "ptde4Wg3lSZX"
      }
    },
    {
      "cell_type": "code",
      "source": [],
      "metadata": {
        "id": "EpLaYzz1gSl_"
      },
      "execution_count": null,
      "outputs": []
    }
  ]
}