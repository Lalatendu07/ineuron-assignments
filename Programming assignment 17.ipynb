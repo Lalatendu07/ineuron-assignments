{
 "cells": [
  {
   "cell_type": "markdown",
   "id": "b9c59022",
   "metadata": {},
   "source": [
    "# Question1.\n",
    "#### Create a function that takes three arguments a, b, c and returns the sum of the numbers that are evenly divided by c from the range a, b inclusive.\n",
    "Examples\n",
    "evenly_divisible(1, 10, 20) ➞ 0\n",
    "#### No number between 1 and 10 can be evenly divided by 20.\n",
    "#### evenly_divisible(1, 10, 2) ➞ 30\n",
    "#### 2 + 4 + 6 + 8 + 10 = 30\n",
    "#### evenly_divisible(1, 10, 3) ➞ 18\n",
    "#### 3 + 6 + 9 = 18"
   ]
  },
  {
   "cell_type": "code",
   "execution_count": 2,
   "id": "cc795dd3",
   "metadata": {},
   "outputs": [
    {
     "name": "stdout",
     "output_type": "stream",
     "text": [
      "No number between1 and 10 can be evenly divided by 20.\n",
      "Sum of evenly divided numbers : 30\n"
     ]
    }
   ],
   "source": [
    "def evenlyDivide(a,b,c):\n",
    "    result=0\n",
    "    if c>b:\n",
    "        print(f'No number between{a} and {b} can be evenly divided by {c}.')\n",
    "    else:\n",
    "        for i in range(a,b+1):\n",
    "            if i%c==0:\n",
    "                result+=i\n",
    "        print(f'Sum of evenly divided numbers : {result}')        \n",
    "                \n",
    "evenlyDivide(1,10,20)\n",
    "evenlyDivide(1,10,2)"
   ]
  },
  {
   "cell_type": "markdown",
   "id": "42187261",
   "metadata": {},
   "source": [
    "# Question2.\n",
    "#### Create a function that returns True if a given inequality expression is correct and False otherwise.\n",
    "Examples\n",
    "#### correct_signs(&quot;3 &lt; 7 &lt; 11&quot;) ➞ True\n",
    "#### correct_signs(&quot;13 &gt; 44 &gt; 33 &gt; 1&quot;) ➞ False\n",
    "#### correct_signs(&quot;1 &lt; 2 &lt; 6 &lt; 9 &gt; 3&quot;) ➞ True"
   ]
  },
  {
   "cell_type": "code",
   "execution_count": 3,
   "id": "96534ff0",
   "metadata": {},
   "outputs": [
    {
     "name": "stdout",
     "output_type": "stream",
     "text": [
      "Enter the expression : 3<7<11\n",
      "The expression 3<7<11 is True.\n",
      "Enter the expression : 13>44>33>1\n",
      "The expression 13>44>33>1 is False.\n",
      "Enter the expression : 1<2<6<9>3\n",
      "The expression 1<2<6<9>3 is True.\n"
     ]
    }
   ],
   "source": [
    "def correct_sign():\n",
    "    exp = input(\"Enter the expression : \")\n",
    "    result = eval(exp)\n",
    "    print(f'The expression {exp} is {result}.')\n",
    "    \n",
    "for i in range(3):\n",
    "    correct_sign()\n",
    "\n",
    "    "
   ]
  },
  {
   "cell_type": "markdown",
   "id": "8af61bd5",
   "metadata": {},
   "source": [
    "# Question3.\n",
    "#### Create a function that replaces all the vowels in a string with a specified character.\n",
    "Examples\n",
    "#### replace_vowels(&quot;the aardvark&quot;, &quot;#&quot;) ➞ &quot;th# ##rdv#rk&quot;\n",
    "#### replace_vowels(&quot;minnie mouse&quot;, &quot;?&quot;) ➞ &quot;m?nn?? m??s?&quot;\n",
    "#### replace_vowels(&quot;shakespeare&quot;, &quot;*&quot;) ➞ &quot;sh*k*sp**r*&quot;"
   ]
  },
  {
   "cell_type": "code",
   "execution_count": 10,
   "id": "bb277ad3",
   "metadata": {},
   "outputs": [
    {
     "name": "stdout",
     "output_type": "stream",
     "text": [
      "Enter the string : the aardvark\n",
      "Replacement character : #\n",
      "replace_vowels the aardvark  # ➞ th# ##rdv#rk\n",
      "Enter the string : minnie mouse\n",
      "Replacement character : ?\n",
      "replace_vowels minnie mouse  ? ➞ m?nn?? m??s?\n",
      "Enter the string : shakespeare\n",
      "Replacement character : \n",
      "replace_vowels shakespeare   ➞ shkspr\n"
     ]
    }
   ],
   "source": [
    "def replaces():\n",
    "    vowel = ['a','e','i','o','u','A','E','I','O','U']\n",
    "    in_str = input('Enter the string : ')\n",
    "    char = input('Replacement character : ')\n",
    "    string = in_str\n",
    "    for i in in_str:\n",
    "        if i in vowel :\n",
    "            in_str = in_str.replace(i , char)\n",
    "    print(f'replace_vowels {string}  {char} ➞ {in_str}')\n",
    "\n",
    "for i in range(3):    \n",
    "    replaces()"
   ]
  },
  {
   "cell_type": "markdown",
   "id": "f3b7f3c4",
   "metadata": {},
   "source": [
    "# Question4.\n",
    "#### Write a function that calculates the factorial of a number recursively.\n",
    "Examples\n",
    "`factorial(5) ➞ 120`\n",
    "\n",
    "`factorial(3) ➞ 6`\n",
    "\n",
    "`factorial(1) ➞ 1`\n",
    "\n",
    "`factorial(0) ➞ 1`"
   ]
  },
  {
   "cell_type": "code",
   "execution_count": 3,
   "id": "ad28a9f7",
   "metadata": {},
   "outputs": [
    {
     "name": "stdout",
     "output_type": "stream",
     "text": [
      "factorial(5) ➞ 120\n",
      "factorial(3) ➞ 6\n",
      "factorial(1) ➞ 1\n",
      "factorial(0) ➞ 1\n"
     ]
    }
   ],
   "source": [
    "def factorial(num):\n",
    "    if num == 0:\n",
    "        return 1\n",
    "    else:\n",
    "        return num * factorial(num-1)\n",
    "\n",
    "print(f'factorial(5) ➞ {factorial(5)}')\n",
    "print(f'factorial(3) ➞ {factorial(3)}')\n",
    "print(f'factorial(1) ➞ {factorial(1)}')\n",
    "print(f'factorial(0) ➞ {factorial(0)}')"
   ]
  },
  {
   "cell_type": "markdown",
   "id": "bb4c2f7e",
   "metadata": {},
   "source": [
    "# Question 5\n",
    "#### Hamming distance is the number of characters that differ between two strings.\n",
    "To illustrate:\n",
    "`String1: \"abcbba\"\n",
    "String2: \"abcbda\"`\n",
    "#### Hamming Distance: 1 - \"b\" vs. \"d\" is the only difference.\n",
    "#### Create a function that computes the hamming distance between two strings.\n",
    "Examples\n",
    "`hamming_distance(\"abcde\", \"bcdef\") ➞ 5\n",
    "hamming_distance(\"abcde\", \"abcde\") ➞ 0\n",
    "hamming_distance(\"strong\", \"strung\") ➞ 1`"
   ]
  },
  {
   "cell_type": "code",
   "execution_count": 4,
   "id": "f05c480c",
   "metadata": {},
   "outputs": [
    {
     "name": "stdout",
     "output_type": "stream",
     "text": [
      "Enter the String_1: abcde\n",
      "Enter the String_2: bcdef\n",
      "Hamning Distance b/w abcde and bcdef ➞ 5\n",
      "Enter the String_1: abcde\n",
      "Enter the String_2: abcde\n",
      "Hamning Distance b/w abcde and abcde ➞ 0\n",
      "Enter the String_1: strong\n",
      "Enter the String_2: strung\n",
      "Hamning Distance b/w strong and strung ➞ 1\n"
     ]
    }
   ],
   "source": [
    "def genHamDistance():\n",
    "    in_string_1 = input('Enter the String_1: ')\n",
    "    in_string_2 = input('Enter the String_2: ')\n",
    "    if len(in_string_1) == len(in_string_2):\n",
    "        count = 0\n",
    "        for i in range(len(in_string_1)):\n",
    "            if in_string_1[i] != in_string_2[i]:\n",
    "                count = count+1\n",
    "        print(f'Hamning Distance b/w {in_string_1} and {in_string_2} ➞ {count}')\n",
    "    else:\n",
    "        print('Both Strings Must be of Same Length')\n",
    "\n",
    "for x in range(3):\n",
    "    genHamDistance()"
   ]
  },
  {
   "cell_type": "code",
   "execution_count": null,
   "id": "05e9b5c5",
   "metadata": {},
   "outputs": [],
   "source": []
  }
 ],
 "metadata": {
  "kernelspec": {
   "display_name": "Python 3 (ipykernel)",
   "language": "python",
   "name": "python3"
  },
  "language_info": {
   "codemirror_mode": {
    "name": "ipython",
    "version": 3
   },
   "file_extension": ".py",
   "mimetype": "text/x-python",
   "name": "python",
   "nbconvert_exporter": "python",
   "pygments_lexer": "ipython3",
   "version": "3.9.12"
  }
 },
 "nbformat": 4,
 "nbformat_minor": 5
}
