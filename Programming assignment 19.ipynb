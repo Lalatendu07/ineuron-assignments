{
 "cells": [
  {
   "cell_type": "markdown",
   "id": "f311bb12",
   "metadata": {},
   "source": [
    "## Question1\n",
    "#### Create a function that takes a string and returns a string in which each character is repeated once.\n",
    "#### Examples\n",
    "`double_char(\"String\") ➞ \"SSttrriinngg\"\n",
    "double_char(\"Hello World!\") ➞ \"HHeelllloo WWoorrlldd!!\"\n",
    "double_char(\"1234!_ \") ➞ \"11223344!!__ \"`"
   ]
  },
  {
   "cell_type": "code",
   "execution_count": 2,
   "id": "4484386f",
   "metadata": {},
   "outputs": [
    {
     "name": "stdout",
     "output_type": "stream",
     "text": [
      "Enter a string: String\n",
      "String ➞ SSttrriinngg\n",
      "Enter a string: Hello World!\n",
      "Hello World! ➞ HHeelllloo  WWoorrlldd!!\n",
      "Enter a string: 1234!_\n",
      "1234!_ ➞ 11223344!!__\n"
     ]
    }
   ],
   "source": [
    "def func():\n",
    "    result = ''\n",
    "    word = input('Enter a string: ')\n",
    "    for i in word:\n",
    "        result += i*2\n",
    "    print(f'{word} ➞ {result}')    \n",
    "for i in range(3):\n",
    "    func()"
   ]
  },
  {
   "cell_type": "markdown",
   "id": "5d242b9a",
   "metadata": {},
   "source": [
    "## Question2\n",
    "#### Create a function that reverses a boolean value and returns the string \"boolean expected\" if another variable type is given.\n",
    "#### Examples\n",
    "`reverse(True) ➞ False\n",
    "reverse(False) ➞ True\n",
    "reverse(0) ➞ \"boolean expected\"\n",
    "reverse(None) ➞ \"boolean expected\"`"
   ]
  },
  {
   "cell_type": "code",
   "execution_count": 3,
   "id": "e3d6c66a",
   "metadata": {},
   "outputs": [
    {
     "name": "stdout",
     "output_type": "stream",
     "text": [
      "reverse(True) ➞ False\n",
      "reverse(False) ➞ True\n",
      "reverse(0) ➞ Boolean Expected\n",
      "reverse(None) ➞ Boolean Expected\n"
     ]
    }
   ],
   "source": [
    "def reverse(in_bool):\n",
    "    if type(in_bool) == bool:\n",
    "        return not in_bool\n",
    "    else:\n",
    "        return \"Boolean Expected\"\n",
    "\n",
    "print(f'reverse(True) ➞ {reverse(True)}')\n",
    "print(f'reverse(False) ➞ {reverse(False)}')\n",
    "print(f'reverse(0) ➞ {reverse(0)}')\n",
    "print(f'reverse(None) ➞ {reverse(None)}')"
   ]
  },
  {
   "cell_type": "markdown",
   "id": "43a9b54c",
   "metadata": {},
   "source": [
    "## Question3\n",
    "#### Create a function that returns the thickness (in meters) of a piece of paper after folding it n number of times. The paper starts off with a thickness of 0.5mm.\n",
    "#### Examples\n",
    "`num_layers(1) ➞ \"0.001m\"`\n",
    "#### Paper folded once is 1mm (equal to 0.001m)\n",
    "`num_layers(4) ➞ \"0.008m\"`\n",
    "#### Paper folded 4 times is 8mm (equal to 0.008m)\n",
    "`num_layers(21) ➞ \"1048.576m\"`\n",
    "#### Paper folded 21 times is 1048576mm (equal to 1048.576m)"
   ]
  },
  {
   "cell_type": "code",
   "execution_count": 4,
   "id": "fe5e51e3",
   "metadata": {},
   "outputs": [
    {
     "name": "stdout",
     "output_type": "stream",
     "text": [
      "num_layers 1 ➞ 0.001m\n",
      "num_layers 4 ➞ 0.008m\n",
      "num_layers 21 ➞ 1048.576m\n"
     ]
    }
   ],
   "source": [
    "def func2(in_num):\n",
    "    out_num = 0.5\n",
    "    for ele in range(in_num):\n",
    "        out_num *= 2\n",
    "    print(f'num_layers {in_num} ➞ {out_num/1000}m')\n",
    "    \n",
    "func2(1)\n",
    "func2(4)\n",
    "func2(21)"
   ]
  },
  {
   "cell_type": "markdown",
   "id": "8548115e",
   "metadata": {},
   "source": [
    "## Question4\n",
    "#### Create a function that takes a single string as argument and returns an ordered list containing the indices of all capital letters in the string.\n",
    "#### Examples\n",
    "`index_of_caps(\"eDaBiT\") ➞ [1, 3, 5]\n",
    "index_of_caps(\"eQuINoX\") ➞ [1, 3, 4, 6]\n",
    "index_of_caps(\"determine\") ➞ []\n",
    "index_of_caps(\"STRIKE\") ➞ [0, 1, 2, 3, 4, 5]\n",
    "index_of_caps(\"sUn\") ➞ [1]`"
   ]
  },
  {
   "cell_type": "code",
   "execution_count": 5,
   "id": "d96bd5b1",
   "metadata": {},
   "outputs": [
    {
     "name": "stdout",
     "output_type": "stream",
     "text": [
      "eDaBiT ➞ [1, 3, 5]\n",
      "eQuINoX ➞ [1, 3, 4, 6]\n",
      "determine ➞ []\n",
      "STRIKE ➞ [0, 1, 2, 3, 4, 5]\n",
      "sUn ➞ [1]\n"
     ]
    }
   ],
   "source": [
    "def func3(in_str):\n",
    "    out_str = []\n",
    "    for i in in_str:\n",
    "        if i.isupper():\n",
    "            out_str.append(in_str.index(i))\n",
    "    print(f'{in_str} ➞ {out_str}')\n",
    "\n",
    "func3(\"eDaBiT\")\n",
    "func3(\"eQuINoX\")\n",
    "func3(\"determine\")\n",
    "func3(\"STRIKE\")\n",
    "func3(\"sUn\")"
   ]
  },
  {
   "cell_type": "markdown",
   "id": "0b9d37ca",
   "metadata": {},
   "source": [
    "## Question5\n",
    "#### Using list comprehensions, create a function that finds all even numbers from 1 to the given number.\n",
    "#### Examples\n",
    "`find_even_nums(8) ➞ [2, 4, 6, 8]\n",
    "find_even_nums(4) ➞ [2, 4]\n",
    "find_even_nums(2) ➞ [2]`"
   ]
  },
  {
   "cell_type": "code",
   "execution_count": 7,
   "id": "bb6d8f75",
   "metadata": {},
   "outputs": [
    {
     "name": "stdout",
     "output_type": "stream",
     "text": [
      "find_even_nums 8 ➞ [2, 4, 6, 8]\n",
      "find_even_nums 4 ➞ [2, 4]\n",
      "find_even_nums 2 ➞ [2]\n"
     ]
    }
   ],
   "source": [
    "def find_even(num):\n",
    "    output=[]\n",
    "    for i in range(1,num+1):\n",
    "        if i%2==0:\n",
    "            output.append(i)\n",
    "    print(f'find_even_nums {num} ➞ {output}')\n",
    "find_even(8)\n",
    "find_even(4)\n",
    "find_even(2)"
   ]
  },
  {
   "cell_type": "code",
   "execution_count": null,
   "id": "eaf31989",
   "metadata": {},
   "outputs": [],
   "source": []
  }
 ],
 "metadata": {
  "kernelspec": {
   "display_name": "Python 3 (ipykernel)",
   "language": "python",
   "name": "python3"
  },
  "language_info": {
   "codemirror_mode": {
    "name": "ipython",
    "version": 3
   },
   "file_extension": ".py",
   "mimetype": "text/x-python",
   "name": "python",
   "nbconvert_exporter": "python",
   "pygments_lexer": "ipython3",
   "version": "3.9.12"
  }
 },
 "nbformat": 4,
 "nbformat_minor": 5
}
