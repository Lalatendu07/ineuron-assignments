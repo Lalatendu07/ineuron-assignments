{
 "cells": [
  {
   "cell_type": "markdown",
   "id": "324aa339",
   "metadata": {},
   "source": [
    "#### 1. Write a Python Program to Add Two Matrices?"
   ]
  },
  {
   "cell_type": "code",
   "execution_count": 4,
   "id": "eda39c14",
   "metadata": {},
   "outputs": [
    {
     "name": "stdout",
     "output_type": "stream",
     "text": [
      "Enter the 1st matrix : [[1,2,3],[4,5,6],[7,8,9]]\n",
      "Enter the 2nd matrix : [[2,4,6],[1,3,5],[9,8,7]]\n",
      "[3, 6, 9]\n",
      "[5, 8, 11]\n",
      "[16, 16, 16]\n"
     ]
    }
   ],
   "source": [
    "x = eval(input('Enter the 1st matrix : '))\n",
    "y = eval(input('Enter the 2nd matrix : '))\n",
    "result = [[0,0,0],\n",
    "         [0,0,0],\n",
    "         [0,0,0]]\n",
    "\n",
    "for i in range(len(x)) :\n",
    "    for j in range(len(x[0])) :\n",
    "        result[i][j]= x[i][j]+y[i][j]\n",
    "\n",
    "for r in result :\n",
    "    print(r)"
   ]
  },
  {
   "cell_type": "markdown",
   "id": "cf9ec873",
   "metadata": {},
   "source": [
    "#### 2. Write a Python Program to Multiply Two Matrices?"
   ]
  },
  {
   "cell_type": "code",
   "execution_count": 7,
   "id": "68be2883",
   "metadata": {},
   "outputs": [
    {
     "name": "stdout",
     "output_type": "stream",
     "text": [
      "Enter the 1st matrix : [[1,2,1],[0,3,2],[2,3,4]]  \n",
      "Enter the 2nd matrix : [[3,0,1],[2,3,1],[3,4,0]]\n",
      "[10, 10, 3]\n",
      "[12, 17, 3]\n",
      "[24, 25, 5]\n"
     ]
    }
   ],
   "source": [
    "x = eval(input('Enter the 1st matrix : '))\n",
    "y = eval(input('Enter the 2nd matrix : '))\n",
    "result = [[0,0,0],\n",
    "         [0,0,0],\n",
    "         [0,0,0]]\n",
    "\n",
    "for i in range(len(x)):\n",
    "    for j in range(len(y)):\n",
    "        for k in range(len(y)):\n",
    "            result[i][j] += x[i][k]*y[k][j]\n",
    "            \n",
    "for r in result:\n",
    "    print(r)"
   ]
  },
  {
   "cell_type": "markdown",
   "id": "234c0010",
   "metadata": {},
   "source": [
    "#### 3. Write a Python Program to Transpose a Matrix?"
   ]
  },
  {
   "cell_type": "code",
   "execution_count": 9,
   "id": "cf64702c",
   "metadata": {},
   "outputs": [
    {
     "name": "stdout",
     "output_type": "stream",
     "text": [
      "Enter a matrix : [[1,0,0],[1,2,3],[0,2,3]]\n",
      "[1, 1, 0]\n",
      "[0, 2, 2]\n",
      "[0, 3, 3]\n"
     ]
    }
   ],
   "source": [
    "x = eval(input('Enter a matrix : '))\n",
    "result=[[0,0,0],\n",
    "  [0,0,0],\n",
    "  [0,0,0]]\n",
    "for i in range(len(x)):\n",
    "    for j in range(len(x)):\n",
    "        result[i][j]=x[j][i]\n",
    "\n",
    "for r in result:\n",
    "    print(r)"
   ]
  },
  {
   "cell_type": "markdown",
   "id": "c1364d06",
   "metadata": {},
   "source": [
    "#### 4. Write a Python Program to Sort Words in Alphabetic Order?"
   ]
  },
  {
   "cell_type": "code",
   "execution_count": 14,
   "id": "e9bd66d8",
   "metadata": {},
   "outputs": [
    {
     "name": "stdout",
     "output_type": "stream",
     "text": [
      "Enter a strig : Ineuron Full Stack Data Science Bootcamp\n",
      "Bootcamp Data Full Ineuron Science Stack\n"
     ]
    }
   ],
   "source": [
    "string = input('Enter a strig : ')\n",
    "sort=sorted(string.split(' '))\n",
    "print(' '.join(sort))"
   ]
  },
  {
   "cell_type": "markdown",
   "id": "dce0191f",
   "metadata": {},
   "source": [
    "#### 5. Write a Python Program to Remove Punctuation From a String?"
   ]
  },
  {
   "cell_type": "code",
   "execution_count": 17,
   "id": "61b7b238",
   "metadata": {},
   "outputs": [
    {
     "name": "stdout",
     "output_type": "stream",
     "text": [
      "Enter a string : this 'is @ full# stack ;data sci!ence (bootcamp.\n",
      "this is  full stack data science bootcamp\n"
     ]
    }
   ],
   "source": [
    "punc = '''~!@#$%^&''*()_:;,.\"\"<>?{}`'''\n",
    "string = input('Enter a string : ')\n",
    "l=''\n",
    "for i in string :\n",
    "    if i not in punc :\n",
    "        l += i \n",
    "print(l)        "
   ]
  },
  {
   "cell_type": "code",
   "execution_count": null,
   "id": "2af0c278",
   "metadata": {},
   "outputs": [],
   "source": []
  }
 ],
 "metadata": {
  "kernelspec": {
   "display_name": "Python 3 (ipykernel)",
   "language": "python",
   "name": "python3"
  },
  "language_info": {
   "codemirror_mode": {
    "name": "ipython",
    "version": 3
   },
   "file_extension": ".py",
   "mimetype": "text/x-python",
   "name": "python",
   "nbconvert_exporter": "python",
   "pygments_lexer": "ipython3",
   "version": "3.9.12"
  }
 },
 "nbformat": 4,
 "nbformat_minor": 5
}
