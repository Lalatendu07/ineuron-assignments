{
 "cells": [
  {
   "cell_type": "markdown",
   "id": "ff58056f",
   "metadata": {},
   "source": [
    "#### 1. Write a Python program to check if the given number is a Disarium Number?"
   ]
  },
  {
   "cell_type": "code",
   "execution_count": 1,
   "id": "52da01d7",
   "metadata": {},
   "outputs": [
    {
     "name": "stdout",
     "output_type": "stream",
     "text": [
      "Enter a number : 135\n",
      "135 is a disarium number.\n",
      "Enter a number : 100\n",
      "100 is not a disarium number.\n"
     ]
    }
   ],
   "source": [
    "def disarium_num():\n",
    "    num=input('Enter a number : ')\n",
    "\n",
    "    result = 0\n",
    "    for i in range(len(num)):\n",
    "            result += int(num[i])**(i+1)\n",
    "    if int(num) == result:\n",
    "        print(f'{num} is a disarium number.')\n",
    "    else:\n",
    "        print(f'{num} is not a disarium number.')\n",
    "        \n",
    "disarium_num()\n",
    "disarium_num()"
   ]
  },
  {
   "cell_type": "markdown",
   "id": "a8d0afd1",
   "metadata": {},
   "source": [
    "#### 2. Write a Python program to print all disarium numbers between 1 to 100?"
   ]
  },
  {
   "cell_type": "code",
   "execution_count": 2,
   "id": "4388ae5e",
   "metadata": {},
   "outputs": [
    {
     "name": "stdout",
     "output_type": "stream",
     "text": [
      "Enter a number : 100\n",
      "Disarium numbers from 1 to 100 : [1, 2, 3, 4, 5, 6, 7, 8, 9, 89]\n"
     ]
    }
   ],
   "source": [
    "def find_disarium():\n",
    "    num = input('Enter a number : ')\n",
    "    l=[]\n",
    "    for n in range(1,int(num)+1):\n",
    "        n=str(n)\n",
    "        result=0\n",
    "        for i in range(len(n)):\n",
    "            result+=int(n[i])**(i+1)\n",
    "        if result==int(n):\n",
    "            l.append(result)\n",
    "    print(f'Disarium numbers from 1 to 100 : {l}')\n",
    "    \n",
    "find_disarium()            \n",
    "            \n",
    "            "
   ]
  },
  {
   "cell_type": "markdown",
   "id": "74b609e4",
   "metadata": {},
   "source": [
    "#### 3. Write a Python program to check if the given number is Happy Number?"
   ]
  },
  {
   "cell_type": "code",
   "execution_count": 3,
   "id": "2377ff15",
   "metadata": {},
   "outputs": [
    {
     "name": "stdout",
     "output_type": "stream",
     "text": [
      "7 is a happy number\n",
      "93 is not a happy number\n",
      "6 is not a happy number\n"
     ]
    }
   ],
   "source": [
    "def is_Happy_num(num):\n",
    "    track_num = set()\n",
    "    while num != 1:\n",
    "        num = sum(int(i)**2 for i in str(num))\n",
    "        if num in track_num:\n",
    "            return 'is not a happy number'\n",
    "        track_num.add(num)\n",
    "    return 'is a happy number'\n",
    "\n",
    "print(7,is_Happy_num(7))\n",
    "print(93,is_Happy_num(93))\n",
    "print(6,is_Happy_num(6))\n"
   ]
  },
  {
   "cell_type": "markdown",
   "id": "06992701",
   "metadata": {},
   "source": [
    "#### 4. Write a Python program to print all happy numbers between 1 and 100?"
   ]
  },
  {
   "cell_type": "code",
   "execution_count": 5,
   "id": "91926dbb",
   "metadata": {},
   "outputs": [
    {
     "name": "stdout",
     "output_type": "stream",
     "text": [
      "The Happy Numbers between 1 and 100 are [1, 7, 10, 13, 19, 23, 28, 31, 32, 44, 49, 68, 70, 79, 82, 86, 91, 94, 97, 100]\n"
     ]
    }
   ],
   "source": [
    "def HappyNumber():\n",
    "    happyNumbersList = []\n",
    "    for num in range(1,101):\n",
    "        num=str(num)\n",
    "        holder = num\n",
    "        trackNumber = set()   \n",
    "        while True: \n",
    "            if num != '1' and num not in trackNumber:\n",
    "                trackNumber.add(num)\n",
    "                sum = 0\n",
    "                for n in range(len(num)):\n",
    "                    sum += int(num[n])**2\n",
    "                num = str(sum)\n",
    "            elif str(num) in trackNumber:\n",
    "                break\n",
    "            else:\n",
    "                happyNumbersList.append(int(holder))\n",
    "                break\n",
    "    print(f'The Happy Numbers between 1 and 100 are {happyNumbersList}')\n",
    "    \n",
    "HappyNumber()"
   ]
  },
  {
   "cell_type": "markdown",
   "id": "1482f085",
   "metadata": {},
   "source": [
    "#### 5. Write a Python program to determine whether the given number is a Harshad Number?"
   ]
  },
  {
   "cell_type": "code",
   "execution_count": 6,
   "id": "a731e4d2",
   "metadata": {},
   "outputs": [
    {
     "name": "stdout",
     "output_type": "stream",
     "text": [
      "Enter a number21\n",
      "21 is harshad number.\n",
      "Enter a number39\n",
      "39 is not a harshad number.\n"
     ]
    }
   ],
   "source": [
    "def harshad_num(num):\n",
    "    s=0\n",
    "    for n in range(len(num)):\n",
    "        s += int(num[n])\n",
    "    if int(num)%s==0:\n",
    "        print(f'{num} is harshad number.')\n",
    "    else:\n",
    "        print(f'{num} is not a harshad number.')\n",
    "        \n",
    "for i in range(2):\n",
    "    num=input('Enter a number')\n",
    "    harshad_num(num)        \n",
    "        \n",
    "    "
   ]
  },
  {
   "cell_type": "markdown",
   "id": "bf91d6ca",
   "metadata": {},
   "source": [
    "#### 6. Write a Python program to print all pronic numbers between 1 and 100?"
   ]
  },
  {
   "cell_type": "code",
   "execution_count": 7,
   "id": "b1877181",
   "metadata": {},
   "outputs": [
    {
     "name": "stdout",
     "output_type": "stream",
     "text": [
      "[2, 6, 12, 20, 30, 42, 56, 72, 90, 110, 132, 156, 182, 210, 240, 272, 306, 342, 380, 420, 462, 506, 552, 600, 650, 702, 756, 812, 870, 930, 992, 1056, 1122, 1190, 1260, 1332, 1406, 1482, 1560, 1640, 1722, 1806, 1892, 1980, 2070, 2162, 2256, 2352, 2450, 2550, 2652, 2756, 2862, 2970, 3080, 3192, 3306, 3422, 3540, 3660, 3782, 3906, 4032, 4160, 4290, 4422, 4556, 4692, 4830, 4970, 5112, 5256, 5402, 5550, 5700, 5852, 6006, 6162, 6320, 6480, 6642, 6806, 6972, 7140, 7310, 7482, 7656, 7832, 8010, 8190, 8372, 8556, 8742, 8930, 9120, 9312, 9506, 9702, 9900, 10100]\n"
     ]
    }
   ],
   "source": [
    "def PronicNumbers():\n",
    "    pronic_num = []\n",
    "    for ele in range(1,101):\n",
    "        pronic_num.append((ele)*(ele+1))\n",
    "    print(pronic_num)\n",
    "                   \n",
    "PronicNumbers()"
   ]
  },
  {
   "cell_type": "code",
   "execution_count": null,
   "id": "6f68d9c3",
   "metadata": {},
   "outputs": [],
   "source": []
  }
 ],
 "metadata": {
  "kernelspec": {
   "display_name": "Python 3 (ipykernel)",
   "language": "python",
   "name": "python3"
  },
  "language_info": {
   "codemirror_mode": {
    "name": "ipython",
    "version": 3
   },
   "file_extension": ".py",
   "mimetype": "text/x-python",
   "name": "python",
   "nbconvert_exporter": "python",
   "pygments_lexer": "ipython3",
   "version": "3.9.12"
  }
 },
 "nbformat": 4,
 "nbformat_minor": 5
}
