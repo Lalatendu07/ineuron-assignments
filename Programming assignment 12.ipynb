{
 "cells": [
  {
   "cell_type": "markdown",
   "id": "93f38730",
   "metadata": {},
   "source": [
    "#### 1. Write a Python program to Extract Unique values dictionary values?"
   ]
  },
  {
   "cell_type": "code",
   "execution_count": 3,
   "id": "f102b376",
   "metadata": {},
   "outputs": [
    {
     "name": "stdout",
     "output_type": "stream",
     "text": [
      "dict_values(['hydrogen', 'carbon', 'neon', 'zinc', 'carbon', 'neon', 'zinc'])\n",
      "Unique values : ['hydrogen', 'zinc', 'carbon', 'neon']\n"
     ]
    }
   ],
   "source": [
    "in_dict = {1:'hydrogen',2:'carbon',3:'neon',4:'zinc',5:'carbon',6:'neon',7:'zinc'}\n",
    "print(in_dict.values())\n",
    "print('Unique values :',list(set(in_dict.values())))\n"
   ]
  },
  {
   "cell_type": "markdown",
   "id": "edf8a188",
   "metadata": {},
   "source": [
    "#### 2. Write a Python program to find the sum of all items in a dictionary?"
   ]
  },
  {
   "cell_type": "code",
   "execution_count": 4,
   "id": "9fdd3d94",
   "metadata": {},
   "outputs": [
    {
     "name": "stdout",
     "output_type": "stream",
     "text": [
      "Sum of items : 210\n"
     ]
    }
   ],
   "source": [
    "in_dict = {'a':10,'b':20,'c':30,'d':40,'e':50,'f':60}\n",
    "print('Sum of items :',sum(in_dict.values()))"
   ]
  },
  {
   "cell_type": "markdown",
   "id": "064095cd",
   "metadata": {},
   "source": [
    "#### 3. Write a Python program to Merging two Dictionaries?"
   ]
  },
  {
   "cell_type": "code",
   "execution_count": 7,
   "id": "3a3a9306",
   "metadata": {},
   "outputs": [
    {
     "name": "stdout",
     "output_type": "stream",
     "text": [
      "{1: 'Red', 2: 'Blue', 3: 'Green', 4: 'Pink', 'a': 100, 'b': 200, 'c': 300, 'd': 400}\n"
     ]
    }
   ],
   "source": [
    "dict_1 = {1:'Red', 2:'Blue', 3:'Green', 4:'Pink'}\n",
    "dict_2 = {'a':100,'b':200,'c':300,'d':400}\n",
    "dict_1.update(dict_2)\n",
    "print(dict_1)"
   ]
  },
  {
   "cell_type": "markdown",
   "id": "827aa594",
   "metadata": {},
   "source": [
    "#### 4. Write a Python program to convert key-values list to flat dictionary?"
   ]
  },
  {
   "cell_type": "code",
   "execution_count": 9,
   "id": "136157d5",
   "metadata": {},
   "outputs": [
    {
     "name": "stdout",
     "output_type": "stream",
     "text": [
      "{'a': 1, 'b': 2, 'c': 3, 'd': 4, 'e': 7, 'f': 6}\n"
     ]
    }
   ],
   "source": [
    "in_list=[('a',1),('b',2),('c',3),('d',4),('e',5),('f',6),('e',7)]\n",
    "in_dict={}\n",
    "for i in in_list:\n",
    "    in_dict[i[0]]=i[1]\n",
    "print(in_dict)    "
   ]
  },
  {
   "cell_type": "markdown",
   "id": "7b041dea",
   "metadata": {},
   "source": [
    "#### 5. Write a Python program to insertion at the beginning in OrderedDict?"
   ]
  },
  {
   "cell_type": "code",
   "execution_count": 11,
   "id": "bede9acc",
   "metadata": {},
   "outputs": [
    {
     "name": "stdout",
     "output_type": "stream",
     "text": [
      "OrderedDict([('a', 1), ('b', 2), ('c', 3), ('d', 4), ('e', 5), ('f', 6), (7, 'last')])\n",
      "OrderedDict([(7, 'last'), ('a', 1), ('b', 2), ('c', 3), ('d', 4), ('e', 5), ('f', 6)])\n"
     ]
    }
   ],
   "source": [
    "from collections import OrderedDict\n",
    "dict_1 = OrderedDict({'a':1,'b':2,'c':3,'d':4,'e':5,'f':6})\n",
    "dict_2 = {7:'last'}\n",
    "dict_1.update(dict_2)\n",
    "print(dict_1)\n",
    "dict_1.move_to_end(7,last=False)\n",
    "print(dict_1)"
   ]
  },
  {
   "cell_type": "markdown",
   "id": "10efbef3",
   "metadata": {},
   "source": [
    "#### 6. Write a Python program to check order of character in string using OrderedDict()?"
   ]
  },
  {
   "cell_type": "code",
   "execution_count": 14,
   "id": "74be118f",
   "metadata": {},
   "outputs": [
    {
     "name": "stdout",
     "output_type": "stream",
     "text": [
      "{'f': 6, 'a': 1, 'c': 3, 'e': 5, 'b': 2, 'd': 4}\n",
      "OrderedDict([('a', 1), ('b', 2), ('c', 3), ('d', 4), ('e', 5), ('f', 6)])\n"
     ]
    }
   ],
   "source": [
    "dict_1={'f':6,'a':1,'c':3,'e':5,'b':2,'d':4}\n",
    "print(dict_1)\n",
    "dict_2 = OrderedDict(dict(sorted(dict_1.items())))\n",
    "print(dict_2)"
   ]
  },
  {
   "cell_type": "markdown",
   "id": "e32d5257",
   "metadata": {},
   "source": [
    "#### 7. Write a Python program to sort Python Dictionaries by Key or Value?"
   ]
  },
  {
   "cell_type": "code",
   "execution_count": 23,
   "id": "65a05c6c",
   "metadata": {},
   "outputs": [
    {
     "name": "stdout",
     "output_type": "stream",
     "text": [
      "{'a': 3, 'b': 4, 'c': 1, 'd': 2, 'e': 6, 'f': 5, 'g': 7}\n",
      "{'c': 1, 'd': 2, 'a': 3, 'b': 4, 'f': 5, 'e': 6, 'g': 7}\n"
     ]
    }
   ],
   "source": [
    "in_dict={'a':3,'b':4,'c':1,'d':2,'f':5,'e':6,'g':7}\n",
    "\n",
    "def sort_dict(in_dict,sort_type):\n",
    "    if sort_type == 'key':\n",
    "        print(dict(sorted(in_dict.items(), key=lambda x:x[0], reverse=False)))\n",
    "    else:\n",
    "        print(dict(sorted(in_dict.items(), key=lambda x:x[1], reverse=False)))\n",
    "        \n",
    "sort_dict(in_dict,'key')        \n",
    "sort_dict(in_dict,'value')"
   ]
  },
  {
   "cell_type": "code",
   "execution_count": null,
   "id": "f3a48b11",
   "metadata": {},
   "outputs": [],
   "source": []
  }
 ],
 "metadata": {
  "kernelspec": {
   "display_name": "Python 3 (ipykernel)",
   "language": "python",
   "name": "python3"
  },
  "language_info": {
   "codemirror_mode": {
    "name": "ipython",
    "version": 3
   },
   "file_extension": ".py",
   "mimetype": "text/x-python",
   "name": "python",
   "nbconvert_exporter": "python",
   "pygments_lexer": "ipython3",
   "version": "3.9.12"
  }
 },
 "nbformat": 4,
 "nbformat_minor": 5
}
