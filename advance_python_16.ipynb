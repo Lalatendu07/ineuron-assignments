{
  "nbformat": 4,
  "nbformat_minor": 0,
  "metadata": {
    "colab": {
      "provenance": []
    },
    "kernelspec": {
      "name": "python3",
      "display_name": "Python 3"
    },
    "language_info": {
      "name": "python"
    }
  },
  "cells": [
    {
      "cell_type": "markdown",
      "source": [
        "#### Q1. What is the benefit of regular expressions?\n",
        "\n",
        "Ans: Regular Expressions, also known as regex or regexp, are used to match strings of text such as particular characters, words, or patterns of characters. It means that we can match and extract any string pattern from the text with the help of regular expressions. It helps the programmers to write less and cleaner code, it also avoids multiple use of if/else statements."
      ],
      "metadata": {
        "id": "McOq2XPokzYG"
      }
    },
    {
      "cell_type": "markdown",
      "source": [
        "#### Q2. Describe the difference between the effects of &quot;(ab)c+&quot; and &quot;a(bc)+.&quot; Which of these, if any, is the unqualified pattern &quot;abc+&quot;?\n",
        "\n",
        "Ans: Both (ab)c+ and a(bc)+ are valid patterns the difference between both these patterns is in (ab)c+ ab is group whereas in a(bc)+ bc is a group."
      ],
      "metadata": {
        "id": "3qPvrnlOmVww"
      }
    },
    {
      "cell_type": "markdown",
      "source": [
        "#### Q3. How much do you need to use the following sentence while using regular expressions?\n",
        "`import re`\n",
        "\n",
        "Ans: `import re` statement always has to be imported before using regular expressions.\n"
      ],
      "metadata": {
        "id": "KmAWmqlumsCy"
      }
    },
    {
      "cell_type": "markdown",
      "source": [
        "#### Q4. Which characters have special significance in square brackets when expressing a range, and under what circumstances?\n",
        "Ans: The Characters .,*,?,^,or,(), have a special signiface when used with square brackets. They need not be be explicitly escaped by \\ as in case of pattern texts in a raw string.\n"
      ],
      "metadata": {
        "id": "8g7ekiF8m7QF"
      }
    },
    {
      "cell_type": "markdown",
      "source": [
        "#### Q5. How does compiling a regular-expression object benefit you?\n",
        "Ans: We can Combine a regular expression pattern into pattern Objects.Which can be used for pattern matching. It also helps to search a pattern again without rewritting it.\n"
      ],
      "metadata": {
        "id": "H7j48HwCnFUs"
      }
    },
    {
      "cell_type": "markdown",
      "source": [
        "#### Q6. What are some examples of how to use the match object returned by re.match and re.search?\n",
        "Ans: The re.search() and re.match() both are functions of re module in python. These functions are very efficient and fast for searching in strings. The function searches for some substring in a string and returns a match object if found, else it returns none.\n",
        "\n",
        "There is a difference between the use of both functions. Both return the first match of a substring found in the string, but re.match() searches only from the beginning of the string and return match object if found. But if a match of substring is found somewhere in the middle of the string, it returns none.\n",
        "\n",
        "While re.search() searches for the whole string even if the string contains multi-lines and tries to find a match of the substring in all the lines of string.\n"
      ],
      "metadata": {
        "id": "veLxIWI6nKSD"
      }
    },
    {
      "cell_type": "markdown",
      "source": [
        "#### Q7. What is the difference between using a vertical bar (|) as an alteration and using square brackets as a character set?\n",
        "Ans: When | us used then patterns searches for or option. i.e __`<pattern_1>|<pattern_2>`__ means it searches as __`<pattern_1>or<<pattern_2>`__ in the searched string. the first occurance of matched string will be returned as the Match Object. Using Character set in square Brackets searches for all the character set in the square bracket and if match is found, it returns it.\n"
      ],
      "metadata": {
        "id": "0PlKdv2gnP_O"
      }
    },
    {
      "cell_type": "markdown",
      "source": [
        "#### Q8. In regular-expression search patterns, why is it necessary to use the raw-string indicator (r)? In replacement strings?\n",
        "Ans: Raw Strings are used in the regular-expression search patterns, so that blackslashes donot have to be escaped."
      ],
      "metadata": {
        "id": "WMmaajB1nWPt"
      }
    },
    {
      "cell_type": "code",
      "source": [],
      "metadata": {
        "id": "Hl5AjNW-l7mt"
      },
      "execution_count": null,
      "outputs": []
    }
  ]
}