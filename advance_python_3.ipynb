{
  "nbformat": 4,
  "nbformat_minor": 0,
  "metadata": {
    "colab": {
      "provenance": []
    },
    "kernelspec": {
      "name": "python3",
      "display_name": "Python 3"
    },
    "language_info": {
      "name": "python"
    }
  },
  "cells": [
    {
      "cell_type": "markdown",
      "source": [
        "#### 1. What is the concept of an abstract superclass?\n",
        "Ans: An abstract superclass can be considered as a blueprint for other classes. It allows you to create a set of methods that must be created within any child classes built from the abstract class. A class which contains one or more abstract methods is called an abstract class.\n",
        "\n",
        "Whereas an abstract method is a method that has a declaration but does not have an implementation."
      ],
      "metadata": {
        "id": "KRfWUkpqzfyV"
      }
    },
    {
      "cell_type": "markdown",
      "source": [
        "#### 2. What happens when a class statement&#39;s top level contains a basic assignment statement?\n",
        "Ans: When a Class statement's top level contains a basic assignment statement, its usually treated as a class attribute or class level variable.\n",
        "\n",
        "Where as assignment statements inside methods are treated as instance attributes or local attributes.\n",
        "\n",
        "When an instance of a class is created a single copy of class attributes is maintained and shared to all instances of class, where as each instance object maintains its own copy of instance variables."
      ],
      "metadata": {
        "id": "YLPrIFIOzkg1"
      }
    },
    {
      "cell_type": "markdown",
      "source": [
        "#### 3. Why does a class need to manually call a superclass&#39;s __ init__ method?\n",
        "Ans: If a child class has __ init__ method, then it will not inherit the __ init__ method of the parent class, in other words the __ init__ method of the child class overrides the __ init__ method of the parent class. So we have to manually call a parent superclass's __ init__ using super() method."
      ],
      "metadata": {
        "id": "bSG7A5C4z3cj"
      }
    },
    {
      "cell_type": "markdown",
      "source": [
        "#### 4. How can you augment, instead of completely replacing, an inherited method?\n",
        "Ans: super() method can be used to augment, instead of completely replacing, an inherited method."
      ],
      "metadata": {
        "id": "AjT3Gha30Mce"
      }
    },
    {
      "cell_type": "markdown",
      "source": [
        "#### 5. How is the local scope of a class different from that of a function?\n",
        "Ans: A variable which is defined inside a function is local to that function. It is accesible from the point at which it is defined until the end of the function, and exists for as long as the function is existing.\n",
        "\n",
        "Similary a variable inside of a class also has a local variable scope. Variables which are defined in the class body (but outside all methods) are called as class level variables or class attributes, they can be referenced by there bare names within the same scope, but they can also be accessed from outside this scope if we use the attribute access operator (.) on a class or an instance of the class."
      ],
      "metadata": {
        "id": "5xqy9pFB0RRU"
      }
    },
    {
      "cell_type": "code",
      "source": [],
      "metadata": {
        "id": "96HpxUp10Z3o"
      },
      "execution_count": null,
      "outputs": []
    }
  ]
}