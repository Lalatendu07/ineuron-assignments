{
  "nbformat": 4,
  "nbformat_minor": 0,
  "metadata": {
    "colab": {
      "provenance": []
    },
    "kernelspec": {
      "name": "python3",
      "display_name": "Python 3"
    },
    "language_info": {
      "name": "python"
    }
  },
  "cells": [
    {
      "cell_type": "markdown",
      "source": [
        "#### Q1. Which two operator overloading methods can you use in your classes to support iteration?"
      ],
      "metadata": {
        "id": "T6Va26SvYbWH"
      }
    },
    {
      "cell_type": "markdown",
      "source": [
        "Ans: \"__ iter__\" and \"__ next__\" are the operator overloading methods in python that support iteration and are collectively called iterator protocol."
      ],
      "metadata": {
        "id": "_JLGvhuVa3y9"
      }
    },
    {
      "cell_type": "markdown",
      "source": [
        "#### Q2. In what contexts do the two operator overloading methods manage printing?\n",
        "__ str __ and __ repr__ are two operator overloading methods that manage printing.\n",
        "\n",
        "-> In Short, the difference between both these operators is the goal of __ repr__ is to be unambiguous and __ str__ is to be readable.\n",
        "\n",
        "-> Whenever we are printing any object reference internally __ str__ method will be called by default.\n",
        "\n",
        "-> The main purpose of __ str__ is for readability. it prints the informal string representation of an object, one that is useful for printing the object. It may not be possible to convert result string to original object.\n",
        "\n",
        "-> __ repr__ is used to print official string representation of an object, so it includes all information and development."
      ],
      "metadata": {
        "id": "vcN-KrcXZERC"
      }
    },
    {
      "cell_type": "markdown",
      "source": [
        "#### Q3. In a class, how do you intercept slice operations?\n",
        "Ans: In a class, use of slice() in __ getitem__ method is used for intercept slice operation. This slice method is provided with start integer number, stop integer number and step integer number.\n",
        "\n",
        "Example: __ getitem__(slice(start,stop,step))"
      ],
      "metadata": {
        "id": "cfzA5SbGZOmt"
      }
    },
    {
      "cell_type": "markdown",
      "source": [
        "#### Q4. In a class, how do you capture in-place addition?\n",
        "Ans: a+b is normal addition. Whereas a+=b is in-place addition operation. In this in-place addition a itself will store the value of addition. In a class __ iadd__ method is used for this in-place operation."
      ],
      "metadata": {
        "id": "87t_DU7yZmgF"
      }
    },
    {
      "cell_type": "markdown",
      "source": [
        "#### Q5. When is it appropriate to use operator overloading?\n",
        "Ans: Operator overloading is used when we want to use an operator other than its normal operation to have different meaning according to the context required in user defined function."
      ],
      "metadata": {
        "id": "ljQE9tLrhKA4"
      }
    },
    {
      "cell_type": "code",
      "source": [],
      "metadata": {
        "id": "1uIjCS3tYlhE"
      },
      "execution_count": null,
      "outputs": []
    }
  ]
}