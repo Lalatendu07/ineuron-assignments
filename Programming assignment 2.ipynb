{
 "cells": [
  {
   "cell_type": "markdown",
   "id": "6e1e2b4d",
   "metadata": {},
   "source": [
    "#### 1. Write a Python program to convert kilometers to miles?"
   ]
  },
  {
   "cell_type": "code",
   "execution_count": 3,
   "id": "2a2af51c",
   "metadata": {},
   "outputs": [
    {
     "name": "stdout",
     "output_type": "stream",
     "text": [
      "Enter kilometers : 50\n",
      "50 km = 31.068550000000002 miles\n"
     ]
    }
   ],
   "source": [
    "km=int(input('Enter kilometers : '))\n",
    "miles=km*0.621371\n",
    "print(km,'km =',miles,'miles')"
   ]
  },
  {
   "cell_type": "markdown",
   "id": "8221fa8c",
   "metadata": {},
   "source": [
    "#### 2. Write a Python program to convert Celsius to Fahrenheit?"
   ]
  },
  {
   "cell_type": "code",
   "execution_count": 4,
   "id": "48427e7d",
   "metadata": {},
   "outputs": [
    {
     "name": "stdout",
     "output_type": "stream",
     "text": [
      "Enter Celsius : 25\n",
      "25 °C = 77.0 °F\n"
     ]
    }
   ],
   "source": [
    "C=int(input('Enter Celsius : '))\n",
    "F=C*1.8+32\n",
    "print(C,'°C =',F,'°F')"
   ]
  },
  {
   "cell_type": "markdown",
   "id": "bd36bd89",
   "metadata": {},
   "source": [
    "#### 3. Write a Python program to display calendar?"
   ]
  },
  {
   "cell_type": "code",
   "execution_count": 8,
   "id": "2f78f275",
   "metadata": {},
   "outputs": [
    {
     "name": "stdout",
     "output_type": "stream",
     "text": [
      "Enter year : 2022\n",
      "Enter month : 11\n",
      "                                  2022\n",
      "\n",
      "      January                   February                   March\n",
      "Mo Tu We Th Fr Sa Su      Mo Tu We Th Fr Sa Su      Mo Tu We Th Fr Sa Su\n",
      "                1  2          1  2  3  4  5  6          1  2  3  4  5  6\n",
      " 3  4  5  6  7  8  9       7  8  9 10 11 12 13       7  8  9 10 11 12 13\n",
      "10 11 12 13 14 15 16      14 15 16 17 18 19 20      14 15 16 17 18 19 20\n",
      "17 18 19 20 21 22 23      21 22 23 24 25 26 27      21 22 23 24 25 26 27\n",
      "24 25 26 27 28 29 30      28                        28 29 30 31\n",
      "31\n",
      "\n",
      "       April                      May                       June\n",
      "Mo Tu We Th Fr Sa Su      Mo Tu We Th Fr Sa Su      Mo Tu We Th Fr Sa Su\n",
      "             1  2  3                         1             1  2  3  4  5\n",
      " 4  5  6  7  8  9 10       2  3  4  5  6  7  8       6  7  8  9 10 11 12\n",
      "11 12 13 14 15 16 17       9 10 11 12 13 14 15      13 14 15 16 17 18 19\n",
      "18 19 20 21 22 23 24      16 17 18 19 20 21 22      20 21 22 23 24 25 26\n",
      "25 26 27 28 29 30         23 24 25 26 27 28 29      27 28 29 30\n",
      "                          30 31\n",
      "\n",
      "        July                     August                  September\n",
      "Mo Tu We Th Fr Sa Su      Mo Tu We Th Fr Sa Su      Mo Tu We Th Fr Sa Su\n",
      "             1  2  3       1  2  3  4  5  6  7                1  2  3  4\n",
      " 4  5  6  7  8  9 10       8  9 10 11 12 13 14       5  6  7  8  9 10 11\n",
      "11 12 13 14 15 16 17      15 16 17 18 19 20 21      12 13 14 15 16 17 18\n",
      "18 19 20 21 22 23 24      22 23 24 25 26 27 28      19 20 21 22 23 24 25\n",
      "25 26 27 28 29 30 31      29 30 31                  26 27 28 29 30\n",
      "\n",
      "      October                   November                  December\n",
      "Mo Tu We Th Fr Sa Su      Mo Tu We Th Fr Sa Su      Mo Tu We Th Fr Sa Su\n",
      "                1  2          1  2  3  4  5  6                1  2  3  4\n",
      " 3  4  5  6  7  8  9       7  8  9 10 11 12 13       5  6  7  8  9 10 11\n",
      "10 11 12 13 14 15 16      14 15 16 17 18 19 20      12 13 14 15 16 17 18\n",
      "17 18 19 20 21 22 23      21 22 23 24 25 26 27      19 20 21 22 23 24 25\n",
      "24 25 26 27 28 29 30      28 29 30                  26 27 28 29 30 31\n",
      "31\n",
      "\n",
      "   November 2022\n",
      "Mo Tu We Th Fr Sa Su\n",
      "    1  2  3  4  5  6\n",
      " 7  8  9 10 11 12 13\n",
      "14 15 16 17 18 19 20\n",
      "21 22 23 24 25 26 27\n",
      "28 29 30\n",
      "\n"
     ]
    }
   ],
   "source": [
    "import calendar\n",
    "y=int(input('Enter year : '))\n",
    "m=int(input('Enter month : '))\n",
    "print(calendar.calendar(y))\n",
    "print(calendar.month(y,m))"
   ]
  },
  {
   "cell_type": "markdown",
   "id": "e31df6a0",
   "metadata": {},
   "source": [
    "#### 4. Write a Python program to solve quadratic equation?"
   ]
  },
  {
   "cell_type": "code",
   "execution_count": 12,
   "id": "18875b03",
   "metadata": {},
   "outputs": [
    {
     "name": "stdout",
     "output_type": "stream",
     "text": [
      "enter first coefficients of quadratic equation :2\n",
      "enter second coefficients of quadratic equation :6\n",
      "enter  third coefficients of quadratic equation :10\n",
      "one root is: (-1.5-1.6583123951777j)\n",
      "second root is: (-1.5+1.6583123951777j)\n"
     ]
    }
   ],
   "source": [
    "import cmath\n",
    "a=int(input(\"enter first coefficients of quadratic equation :\"))\n",
    "b=int(input(\"enter second coefficients of quadratic equation :\"))\n",
    "c=int(input(\"enter  third coefficients of quadratic equation :\"))\n",
    "d=(b*b)-(4*a*c)\n",
    "print(\"one root is:\",(-b-cmath.sqrt(d))/(2*a))\n",
    "print(\"second root is:\",(-b+cmath.sqrt(d))/(2*a))"
   ]
  },
  {
   "cell_type": "markdown",
   "id": "7dbda5d3",
   "metadata": {},
   "source": [
    "#### 5. Write a Python program to swap two variables without temp variable?"
   ]
  },
  {
   "cell_type": "code",
   "execution_count": 13,
   "id": "8141978b",
   "metadata": {},
   "outputs": [
    {
     "name": "stdout",
     "output_type": "stream",
     "text": [
      "enter first number :10\n",
      "enter second number:20\n",
      "Before swap : 10 20\n",
      "After swap : 20 10\n"
     ]
    }
   ],
   "source": [
    "a=int(input(\"enter first number :\"))\n",
    "b=int(input(\"enter second number:\"))\n",
    "print(\"Before swap :\",a,b)\n",
    "a=a*b\n",
    "b=a//b\n",
    "a=a//b\n",
    "print(\"After swap :\",a,b)"
   ]
  },
  {
   "cell_type": "code",
   "execution_count": null,
   "id": "8f2996e2",
   "metadata": {},
   "outputs": [],
   "source": []
  }
 ],
 "metadata": {
  "kernelspec": {
   "display_name": "Python 3 (ipykernel)",
   "language": "python",
   "name": "python3"
  },
  "language_info": {
   "codemirror_mode": {
    "name": "ipython",
    "version": 3
   },
   "file_extension": ".py",
   "mimetype": "text/x-python",
   "name": "python",
   "nbconvert_exporter": "python",
   "pygments_lexer": "ipython3",
   "version": "3.9.12"
  }
 },
 "nbformat": 4,
 "nbformat_minor": 5
}
