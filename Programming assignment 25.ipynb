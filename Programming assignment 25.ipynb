{
 "cells": [
  {
   "cell_type": "markdown",
   "id": "b2254526",
   "metadata": {},
   "source": [
    "# Question1\n",
    "#### Create a function that takes three integer arguments (a, b, c) and returns the amount of integers which are of equal value.\n",
    "## Examples\n",
    "`equal(3, 4, 3) ➞ 2\n",
    "equal(1, 1, 1) ➞ 3\n",
    "equal(3, 4, 1) ➞ 0`\n",
    "#### Notes\n",
    "`Your function must return 0, 2 or 3.`"
   ]
  },
  {
   "cell_type": "code",
   "execution_count": 1,
   "id": "8cf2b54b",
   "metadata": {},
   "outputs": [
    {
     "name": "stdout",
     "output_type": "stream",
     "text": [
      "equal 3,4,3 ➞ 2\n",
      "equal 1,1,1 ➞ 3\n",
      "equal 3,4,1 ➞ 0\n"
     ]
    }
   ],
   "source": [
    "def equal(a, b, c):\n",
    "    if a==b==c:\n",
    "        print(f\"equal {a},{b},{c} ➞ 3\")\n",
    "    elif a==b or b==c or a==c:\n",
    "        print(f\"equal {a},{b},{c} ➞ 2\")\n",
    "    else:    \n",
    "        print(f\"equal {a},{b},{c} ➞ 0\")\n",
    "            \n",
    "equal(3, 4, 3)\n",
    "equal(1, 1, 1)\n",
    "equal(3, 4, 1)            "
   ]
  },
  {
   "cell_type": "markdown",
   "id": "b52e512a",
   "metadata": {},
   "source": [
    "# Question2\n",
    "#### Write a function that converts a dictionary into a list of keys-values tuples.\n",
    "## Examples\n",
    "`dict_to_list({\"D\": 1,\"B\": 2,\"C\": 3}) ➞ [(\"B\", 2), (\"C\", 3), (\"D\", 1)]\n",
    "dict_to_list({\"likes\": 2,\"dislikes\": 3,\"followers\": 10}) ➞ [(\"dislikes\", 3), (\"followers\", 10), (\"likes\", 2)]`\n",
    "#### Notes\n",
    "`Return the elements in the list in alphabetical order.`"
   ]
  },
  {
   "cell_type": "code",
   "execution_count": 5,
   "id": "5f902f57",
   "metadata": {},
   "outputs": [
    {
     "name": "stdout",
     "output_type": "stream",
     "text": [
      "dict_to_list {'D': 1, 'B': 2, 'C': 3} ➞ [('B', 2), ('C', 3), ('D', 1)]\n",
      "dict_to_list {'likes': 2, 'dislikes': 3, 'followers': 10} ➞ [('dislikes', 3), ('followers', 10), ('likes', 2)]\n"
     ]
    }
   ],
   "source": [
    "def dict_to_list(in_dict):\n",
    "    out_dict=[]\n",
    "    for key,value in in_dict.items():\n",
    "        out_dict.append((key,value))\n",
    "    print(f\"dict_to_list {in_dict} ➞ {sorted(out_dict)}\")\n",
    "  \n",
    "dict_to_list({\"D\": 1,\"B\": 2,\"C\": 3})\n",
    "dict_to_list({\"likes\": 2,\"dislikes\": 3,\"followers\": 10})          "
   ]
  },
  {
   "cell_type": "markdown",
   "id": "31ed62d7",
   "metadata": {},
   "source": [
    "# Question3\n",
    "#### Write a function that creates a dictionary with each (key, value) pair being the (lower case, upper case) versions of a letter, respectively.\n",
    "## Examples\n",
    "`mapping([\"p\", \"s\"]) ➞ { \"p\": \"P\", \"s\": \"S\" }\n",
    "mapping([\"a\", \"b\", \"c\"]) ➞ { \"a\": \"A\", \"b\": \"B\", \"c\": \"C\" }\n",
    "mapping([\"a\", \"v\", \"y\", \"z\"]) ➞ { \"a\": \"A\", \"v\": \"V\", \"y\": \"Y\", \"z\": \"Z\" }`\n",
    "#### Notes\n",
    "`All of the letters in the input list will always be lowercase.`"
   ]
  },
  {
   "cell_type": "code",
   "execution_count": 7,
   "id": "3b8ebe2a",
   "metadata": {},
   "outputs": [
    {
     "name": "stdout",
     "output_type": "stream",
     "text": [
      "mapping ['p', 's'] ➞ {'p': 'P', 's': 'S'}\n",
      "mapping ['a', 'b', 'c'] ➞ {'a': 'A', 'b': 'B', 'c': 'C'}\n",
      "mapping ['a', 'v', 'y', 'z'] ➞ {'a': 'A', 'v': 'V', 'y': 'Y', 'z': 'Z'}\n"
     ]
    }
   ],
   "source": [
    "def mapping(in_list):\n",
    "    out_dict={}\n",
    "    for i in in_list:\n",
    "        out_dict[i]=i.upper()\n",
    "    print(f'mapping {in_list} ➞ {out_dict}')\n",
    "          \n",
    "mapping([\"p\", \"s\"]) \n",
    "mapping([\"a\", \"b\", \"c\"]) \n",
    "mapping([\"a\", \"v\", \"y\", \"z\"])    "
   ]
  },
  {
   "cell_type": "markdown",
   "id": "92b470be",
   "metadata": {},
   "source": [
    "# Question4\n",
    "#### Write a function, that replaces all vowels in a string with a specified vowel.\n",
    "## Examples\n",
    "`vow_replace(\"apples and bananas\", \"u\") ➞ \"upplus und bununus\"\n",
    "vow_replace(\"cheese casserole\", \"o\") ➞ \"chooso cossorolo\"\n",
    "vow_replace(\"stuffed jalapeno poppers\", \"e\") ➞ \"steffed jelepene peppers\"`\n",
    "#### Notes\n",
    "`All words will be lowercase. Y is not considered a vowel.`"
   ]
  },
  {
   "cell_type": "code",
   "execution_count": 9,
   "id": "4dece620",
   "metadata": {},
   "outputs": [
    {
     "name": "stdout",
     "output_type": "stream",
     "text": [
      "vow_replace apples and bananas, u ➞ upplus und bununus\n",
      "vow_replace cheese casserole, o ➞ chooso cossorolo\n",
      "vow_replace stuffed jalapeno poppers, e ➞ steffed jelepene peppers\n"
     ]
    }
   ],
   "source": [
    "def vow_replace(in_str, vow):\n",
    "    v=\"aeiou\"\n",
    "    out_str=\"\"\n",
    "    for i in in_str:\n",
    "        if i in v:\n",
    "            out_str+= vow\n",
    "        else:\n",
    "            out_str+= i\n",
    "    print(f'vow_replace {in_str}, {vow} ➞ {out_str}')  \n",
    "    \n",
    "vow_replace(\"apples and bananas\", \"u\") \n",
    "vow_replace(\"cheese casserole\", \"o\") \n",
    "vow_replace(\"stuffed jalapeno poppers\", \"e\")    "
   ]
  },
  {
   "cell_type": "markdown",
   "id": "4cb5ab39",
   "metadata": {},
   "source": [
    "# Question5\n",
    "#### Create a function that takes a string as input and capitalizes a letter if its ASCII code is even and returns its lower case version if its ASCII code is odd.\n",
    "## Examples\n",
    "`ascii_capitalize(\"to be or not to be!\") ➞ \"To Be oR NoT To Be!\"\n",
    "ascii_capitalize(\"THE LITTLE MERMAID\") ➞ \"THe LiTTLe meRmaiD\"\n",
    "ascii_capitalize(\"Oh what a beautiful morning.\") ➞ \"oH wHaT a BeauTiFuL moRNiNg.\"`"
   ]
  },
  {
   "cell_type": "code",
   "execution_count": 10,
   "id": "1ebc014a",
   "metadata": {},
   "outputs": [
    {
     "name": "stdout",
     "output_type": "stream",
     "text": [
      "ascii_capitalize to be or not to be! ➞ To Be oR NoT To Be!\n",
      "ascii_capitalize THE LITTLE MERMAID ➞ THe LiTTLe meRmaiD\n",
      "ascii_capitalize Oh what a beautiful morning. ➞ oH wHaT a BeauTiFuL moRNiNg.\n"
     ]
    }
   ],
   "source": [
    "def ascii_capitalize(in_str):\n",
    "    out_str = ''\n",
    "    for i in in_str.lower():\n",
    "        if ord(i)%2==0:\n",
    "            out_str+= i.upper()\n",
    "        else:\n",
    "            out_str+= i\n",
    "    print(f'ascii_capitalize {in_str} ➞ {out_str}')   \n",
    "    \n",
    "ascii_capitalize(\"to be or not to be!\")\n",
    "ascii_capitalize(\"THE LITTLE MERMAID\") \n",
    "ascii_capitalize(\"Oh what a beautiful morning.\")    "
   ]
  },
  {
   "cell_type": "code",
   "execution_count": null,
   "id": "cfb46c61",
   "metadata": {},
   "outputs": [],
   "source": []
  }
 ],
 "metadata": {
  "kernelspec": {
   "display_name": "Python 3 (ipykernel)",
   "language": "python",
   "name": "python3"
  },
  "language_info": {
   "codemirror_mode": {
    "name": "ipython",
    "version": 3
   },
   "file_extension": ".py",
   "mimetype": "text/x-python",
   "name": "python",
   "nbconvert_exporter": "python",
   "pygments_lexer": "ipython3",
   "version": "3.9.12"
  }
 },
 "nbformat": 4,
 "nbformat_minor": 5
}
