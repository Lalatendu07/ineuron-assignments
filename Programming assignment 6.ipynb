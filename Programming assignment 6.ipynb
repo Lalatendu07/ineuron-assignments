{
 "cells": [
  {
   "cell_type": "markdown",
   "id": "bde64368",
   "metadata": {},
   "source": [
    "#### 1. Write a Python Program to Display Fibonacci Sequence Using Recursion?"
   ]
  },
  {
   "cell_type": "code",
   "execution_count": 2,
   "id": "5849ce0a",
   "metadata": {},
   "outputs": [
    {
     "name": "stdout",
     "output_type": "stream",
     "text": [
      "Enter no.of terms : 20\n",
      "0,1,1,2,3,5,8,13,21,34,55,89,144,233,377,610,987,1597,2584,4181,"
     ]
    }
   ],
   "source": [
    "def recur_fibo(n):\n",
    "    if n<=1:\n",
    "        return n\n",
    "    else:\n",
    "        return (recur_fibo(n-1)+recur_fibo(n-2))\n",
    "\n",
    "nterm=int(input('Enter no.of terms : '))\n",
    "\n",
    "if nterm<=0:\n",
    "    print('Please enter positive number')\n",
    "else:\n",
    "    for i in range(nterm):\n",
    "        print(recur_fibo(i),end=',')"
   ]
  },
  {
   "cell_type": "markdown",
   "id": "96b8333b",
   "metadata": {},
   "source": [
    "#### 2. Write a Python Program to Find Factorial of Number Using Recursion?"
   ]
  },
  {
   "cell_type": "code",
   "execution_count": 4,
   "id": "4fb13a1e",
   "metadata": {},
   "outputs": [
    {
     "name": "stdout",
     "output_type": "stream",
     "text": [
      "Enter a number : 10\n",
      "factorial of 10 is 3628800\n"
     ]
    }
   ],
   "source": [
    "def factorial(n):\n",
    "    if n<=1:\n",
    "        return n\n",
    "    else :\n",
    "        return (n * factorial(n-1))\n",
    "\n",
    "ntr=int(input('Enter a number : '))\n",
    "if ntr<0:\n",
    "    print('Enter a positive number')\n",
    "else:\n",
    "    print(f'factorial of {ntr} is',factorial(ntr))"
   ]
  },
  {
   "cell_type": "markdown",
   "id": "e254d76d",
   "metadata": {},
   "source": [
    "#### 3. Write a Python Program to calculate your Body Mass Index?"
   ]
  },
  {
   "cell_type": "code",
   "execution_count": 6,
   "id": "566f19ad",
   "metadata": {},
   "outputs": [
    {
     "name": "stdout",
     "output_type": "stream",
     "text": [
      "Enter weight in kilograms(kgs) : 60\n",
      "Enter height in meters(mts) : 1.73\n",
      "BMI : 20.04744562130375 and status : Healthy\n"
     ]
    }
   ],
   "source": [
    "def BMI_cal(w,h):\n",
    "    bmi = w/(h*h)\n",
    "    \n",
    "    if bmi < 18.5 :\n",
    "        print(f'BMI : {bmi} and status : Underweight')\n",
    "    elif bmi >= 18.5 and bmi < 24.9 :\n",
    "        print(f'BMI : {bmi} and status : Healthy')\n",
    "    elif bmi >=24.9 and bmi < 30 :\n",
    "        print(f'BMI : {bmi} and status : Overweight')\n",
    "    elif bmi >= 30:\n",
    "        print(f'BMI : {bmi} and status : Obesity')\n",
    "\n",
    "wt = float(input('Enter weight in kilograms(kgs) : '))\n",
    "ht = float(input('Enter height in meters(mts) : '))\n",
    "\n",
    "BMI_cal(wt,ht)"
   ]
  },
  {
   "cell_type": "markdown",
   "id": "f7e1c9e0",
   "metadata": {},
   "source": [
    "#### 4. Write a Python Program to calculate the natural logarithm of any number?"
   ]
  },
  {
   "cell_type": "code",
   "execution_count": 9,
   "id": "783e7b30",
   "metadata": {},
   "outputs": [
    {
     "name": "stdout",
     "output_type": "stream",
     "text": [
      "Enter a number100\n",
      "log of 100 = 4.605170185988092\n"
     ]
    }
   ],
   "source": [
    "import math\n",
    "def loga():\n",
    "    num=eval(input('Enter a number'))\n",
    "    print(f'log of {num} =' ,math.log(num))\n",
    "\n",
    "loga()    "
   ]
  },
  {
   "cell_type": "markdown",
   "id": "4a72bf84",
   "metadata": {},
   "source": [
    "#### 5. Write a Python Program for cube sum of first n natural numbers?"
   ]
  },
  {
   "cell_type": "code",
   "execution_count": 12,
   "id": "58a62568",
   "metadata": {},
   "outputs": [
    {
     "name": "stdout",
     "output_type": "stream",
     "text": [
      "Enter a number : 5\n",
      "Cube sum of first 5 natural numbers is 225\n"
     ]
    }
   ],
   "source": [
    "n=int(input('Enter a number : '))\n",
    "s=0\n",
    "for i in range(1,n+1):\n",
    "    s += pow(i,3)\n",
    "print(f'Cube sum of first {n} natural numbers is {s}')    "
   ]
  },
  {
   "cell_type": "code",
   "execution_count": null,
   "id": "1820addd",
   "metadata": {},
   "outputs": [],
   "source": []
  }
 ],
 "metadata": {
  "kernelspec": {
   "display_name": "Python 3 (ipykernel)",
   "language": "python",
   "name": "python3"
  },
  "language_info": {
   "codemirror_mode": {
    "name": "ipython",
    "version": 3
   },
   "file_extension": ".py",
   "mimetype": "text/x-python",
   "name": "python",
   "nbconvert_exporter": "python",
   "pygments_lexer": "ipython3",
   "version": "3.9.12"
  }
 },
 "nbformat": 4,
 "nbformat_minor": 5
}
