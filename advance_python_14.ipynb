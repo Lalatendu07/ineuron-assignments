{
  "nbformat": 4,
  "nbformat_minor": 0,
  "metadata": {
    "colab": {
      "provenance": []
    },
    "kernelspec": {
      "name": "python3",
      "display_name": "Python 3"
    },
    "language_info": {
      "name": "python"
    }
  },
  "cells": [
    {
      "cell_type": "markdown",
      "source": [
        "#### Q1. Is an assignment operator like += only for show? Is it possible that it would lead to faster results at the runtime?\n",
        "\n",
        "Ans: A=A+1 evaluates to finding A, adding 1 to it. Then storing the value again in variable A. This expression makes Python to look for memory holder of a twice. But A+=1 simply means value of A is to incremented by 1. As memory address has to be identified once, += leads to faster operation."
      ],
      "metadata": {
        "id": "nQKYCTimf-P5"
      }
    },
    {
      "cell_type": "markdown",
      "source": [
        "#### Q2. What is the smallest number of statements you'd have to write in most programming languages to replace the Python expression a, b = a + b, a?\n",
        "\n",
        "Ans: Minimum number of lines required to write above code in languages other than Python will be 4, two for assigning initial values for variables a and b, and two for reassignment i.e. a=a+b and b=a."
      ],
      "metadata": {
        "id": "dtrWv0Q4gMqY"
      }
    },
    {
      "cell_type": "markdown",
      "source": [
        "#### Q3. In Python, what is the most effective way to set a list of 100 integers to 0?\n",
        "\n",
        "Ans: The Most effective way to set a list of 100 integers to 0 in python is by using repition operator(*) or by using list comprehension."
      ],
      "metadata": {
        "id": "9DWJmpoxgZ0F"
      }
    },
    {
      "cell_type": "code",
      "source": [
        "# Method 1\n",
        "list_zero=[0]*100\n",
        "print(list_zero)\n",
        "# Method 2\n",
        "zero_list = [0 for i in range(100)]\n",
        "print(zero_list)"
      ],
      "metadata": {
        "id": "7Q-3zYhwjxrr"
      },
      "execution_count": null,
      "outputs": []
    },
    {
      "cell_type": "markdown",
      "source": [
        "#### Q4. What is the most effective way to initialise a list of 99 integers that repeats the sequence 1, 2, 3? S If necessary, show step-by-step instructions on how to accomplish this.\n",
        "\n"
      ],
      "metadata": {
        "id": "EIzuX7eZggsF"
      }
    },
    {
      "cell_type": "code",
      "source": [
        "my_list = [1,2,3]*33\n",
        "print(my_list)"
      ],
      "metadata": {
        "colab": {
          "base_uri": "https://localhost:8080/"
        },
        "id": "j_26pEVdkUsD",
        "outputId": "30e6fbf5-f0ff-491d-e243-b19a55ecc4e4"
      },
      "execution_count": null,
      "outputs": [
        {
          "output_type": "stream",
          "name": "stdout",
          "text": [
            "[1, 2, 3, 1, 2, 3, 1, 2, 3, 1, 2, 3, 1, 2, 3, 1, 2, 3, 1, 2, 3, 1, 2, 3, 1, 2, 3, 1, 2, 3, 1, 2, 3, 1, 2, 3, 1, 2, 3, 1, 2, 3, 1, 2, 3, 1, 2, 3, 1, 2, 3, 1, 2, 3, 1, 2, 3, 1, 2, 3, 1, 2, 3, 1, 2, 3, 1, 2, 3, 1, 2, 3, 1, 2, 3, 1, 2, 3, 1, 2, 3, 1, 2, 3, 1, 2, 3, 1, 2, 3, 1, 2, 3, 1, 2, 3, 1, 2, 3]\n"
          ]
        }
      ]
    },
    {
      "cell_type": "markdown",
      "source": [
        "#### Q5. If you're using IDLE to run a Python application, explain how to print a multidimensional list as efficiently?\n",
        "\n"
      ],
      "metadata": {
        "id": "It1lbpEEgubF"
      }
    },
    {
      "cell_type": "code",
      "source": [
        "in_list = [[1,1],[2,2],[3,3],[4,4],[5,5]] # 2 dimensional List\n",
        "for i in range(len(in_list)):\n",
        "    for j in range(len(in_list[i])):\n",
        "        print(in_list[i][j],end=\" \")"
      ],
      "metadata": {
        "colab": {
          "base_uri": "https://localhost:8080/"
        },
        "id": "5ddiDfBak2SX",
        "outputId": "4e546c54-ef0a-419a-b134-5e24fd8d4b08"
      },
      "execution_count": null,
      "outputs": [
        {
          "output_type": "stream",
          "name": "stdout",
          "text": [
            "1 1 2 2 3 3 4 4 5 5 "
          ]
        }
      ]
    },
    {
      "cell_type": "markdown",
      "source": [
        "#### Q6. Is it possible to use list comprehension with a string? If so, how can you go about doing it?"
      ],
      "metadata": {
        "id": "eEqnG6oKg6ne"
      }
    },
    {
      "cell_type": "code",
      "source": [
        "my_list = [i for i in 'iNeuron']\n",
        "print(my_list)"
      ],
      "metadata": {
        "colab": {
          "base_uri": "https://localhost:8080/"
        },
        "id": "leIdPAshlxKR",
        "outputId": "5001952f-7213-4291-f6ae-e4aaa914c7e1"
      },
      "execution_count": null,
      "outputs": [
        {
          "output_type": "stream",
          "name": "stdout",
          "text": [
            "['i', 'N', 'e', 'u', 'r', 'o', 'n']\n"
          ]
        }
      ]
    },
    {
      "cell_type": "markdown",
      "source": [
        "#### Q7. From the command line, how do you get support with a user-written Python programme? Is this possible from inside IDLE?\n",
        "Ans: __Get support with a user-written Python Programme: Start a command prompt (Windows) or terminal window (Linux/Mac). If the current working directory is the same as the location in which you saved the file, you can simply specify the filename as a command-line argument to the Python interpreter.\n",
        "\n",
        "Get support with a User-written Python Program from IDLE: You can also create script files and run them in IDLE. From the Shell window menu, select File → New File. That should open an additional editing window. Type in the code to be executed. From the menu in that window, select File → Save or File → Save As… and save the file to disk. Then select Run → Run Module. The output should appear back in the interpreter"
      ],
      "metadata": {
        "id": "1IMbPvhjhAoT"
      }
    },
    {
      "cell_type": "markdown",
      "source": [
        "#### Q8. Functions are said to be “first-class objects” in Python but not in most other languages, such as C++ or Java. What can you do in Python with a function (callable object) that you can't do in C or C++?\n",
        "Ans: The tasks which can be performed with the functions in python are:\n",
        "\n",
        "* A function is an instance of the Object type.\n",
        "* You can store the function in a variable.\n",
        "* You can pass the function as a parameter to another function.\n",
        "* You can return the function from a function.\n",
        "* You can store them in data structures such as hash tables, lists.\n"
      ],
      "metadata": {
        "id": "DkN3C8RQhLCl"
      }
    },
    {
      "cell_type": "markdown",
      "source": [
        "#### Q9. How do you distinguish between a wrapper, a wrapped feature, and a decorator?\n",
        "Ans: Wrappers Around the functions are known as Decrators.\n"
      ],
      "metadata": {
        "id": "FTaCNXUZhVCs"
      }
    },
    {
      "cell_type": "markdown",
      "source": [
        "#### Q10. If a function is a generator function, what does it return?\n",
        "Ans: Generator functions are a special kind of function that return a lazy iterator. These are objects that you can loop over like a list. However, unlike lists, lazy iterators do not store their contents in memory."
      ],
      "metadata": {
        "id": "cETX-tgMhcDc"
      }
    },
    {
      "cell_type": "markdown",
      "source": [
        "#### Q11. What is the one improvement that must be made to a function in order for it to become a generator function in the Python language?\n",
        "Ans: Generator is a written as normal function but uses yield keyword to return values instead of return keyword."
      ],
      "metadata": {
        "id": "omt1TBtvhh7G"
      }
    },
    {
      "cell_type": "markdown",
      "source": [
        "#### Q12. Identify at least one benefit of generators.\n",
        "Ans: return statement sends a specified value back to its caller whereas yield statment can produce a sequence of values. We should use generator when we want to iterate over a sequence, but don’t want to store the entire sequence in memory."
      ],
      "metadata": {
        "id": "rM4BBHQWhr6t"
      }
    },
    {
      "cell_type": "code",
      "source": [],
      "metadata": {
        "id": "qtjJvSg2EJdP"
      },
      "execution_count": null,
      "outputs": []
    }
  ]
}