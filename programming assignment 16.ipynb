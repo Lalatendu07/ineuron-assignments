{
 "cells": [
  {
   "cell_type": "markdown",
   "id": "6b95f732-4000-4fe1-821b-0b7679ed89dd",
   "metadata": {},
   "source": [
    "## Question1.\n",
    "#### Write a function that stutters a word as if someone is struggling to read it. The first two letters are repeated twice with an ellipsis ... and space after each, and then the word is pronounced with a question mark ?.\n",
    "Examples\n",
    "stutter(&quot;incredible&quot;) ➞ &quot;in... in... incredible?&quot;\n",
    "\n",
    "stutter(&quot;enthusiastic&quot;) ➞ &quot;en... en... enthusiastic?&quot;\n",
    "\n",
    "stutter(&quot;outstanding&quot;) ➞ &quot;ou... ou... outstanding?&quot;\n",
    "\n",
    "Hint :- Assume all input is in lower case and at least two characters long."
   ]
  },
  {
   "cell_type": "code",
   "execution_count": 8,
   "id": "79ab6e73-e824-4a05-9052-701981b0a9fb",
   "metadata": {},
   "outputs": [
    {
     "name": "stdin",
     "output_type": "stream",
     "text": [
      "Enter a word :   incredible\n"
     ]
    },
    {
     "name": "stdout",
     "output_type": "stream",
     "text": [
      " i...   i...   incredible?\n"
     ]
    },
    {
     "name": "stdin",
     "output_type": "stream",
     "text": [
      "Enter a word :  enthusiastic\n"
     ]
    },
    {
     "name": "stdout",
     "output_type": "stream",
     "text": [
      "en...  en...  enthusiastic?\n"
     ]
    },
    {
     "name": "stdin",
     "output_type": "stream",
     "text": [
      "Enter a word :  outstanding\n"
     ]
    },
    {
     "name": "stdout",
     "output_type": "stream",
     "text": [
      "ou...  ou...  outstanding?\n"
     ]
    }
   ],
   "source": [
    "def stutters():\n",
    "    for i in range(3):\n",
    "        input_str = input('Enter a word : ')\n",
    "        print(input_str[0:2]+'... ',input_str[0:2]+'... ',input_str+'?')\n",
    "stutters()        "
   ]
  },
  {
   "cell_type": "markdown",
   "id": "3a033da2-f1f8-4dbb-85ea-11f11ea48cc2",
   "metadata": {},
   "source": [
    "## Question 2.\n",
    "#### Create a function that takes an angle in radians and returns the corresponding angle in degrees rounded to one decimal place.\n",
    "Examples\n",
    "radians_to_degrees(1) ➞ 57.3\n",
    "\n",
    "radians_to_degrees(20) ➞ 1145.9\n",
    "\n",
    "radians_to_degrees(50) ➞ 2864.8"
   ]
  },
  {
   "cell_type": "code",
   "execution_count": 12,
   "id": "02bdfdcc-4c79-4844-9866-62c0f2c4a70e",
   "metadata": {},
   "outputs": [
    {
     "name": "stdin",
     "output_type": "stream",
     "text": [
      "Enter an angle in Radians :  1\n"
     ]
    },
    {
     "name": "stdout",
     "output_type": "stream",
     "text": [
      "57.3 degree\n"
     ]
    },
    {
     "name": "stdin",
     "output_type": "stream",
     "text": [
      "Enter an angle in Radians :  20\n"
     ]
    },
    {
     "name": "stdout",
     "output_type": "stream",
     "text": [
      "1145.9 degree\n"
     ]
    },
    {
     "name": "stdin",
     "output_type": "stream",
     "text": [
      "Enter an angle in Radians :  50\n"
     ]
    },
    {
     "name": "stdout",
     "output_type": "stream",
     "text": [
      "2864.8 degree\n"
     ]
    }
   ],
   "source": [
    "import math\n",
    "def radian_to_degree():\n",
    "    num = int(input('Enter an angle in Radians : '))\n",
    "    result = (180/math.pi)*num\n",
    "    print(f'{result:.1f} degree')\n",
    "    \n",
    "for i in range(3):\n",
    "    radian_to_degree()"
   ]
  },
  {
   "cell_type": "markdown",
   "id": "4b63b14c-641a-43ee-9701-57f37f5327ea",
   "metadata": {},
   "source": [
    "## Question 3.\n",
    "#### In this challenge, establish if a given integer num is a Curzon number. If 1 plus 2 elevated to num is exactly divisible by 1 plus 2 multiplied by num, then num is a Curzon number.\n",
    "Given a non-negative integer num, implement a function that returns True if num is a Curzon\n",
    "number, or False otherwise.\n",
    "Examples\n",
    "is_curzon(5) ➞ True\n",
    "#### 2 ** 5 + 1 = 33\n",
    "#### 2 * 5 + 1 = 11\n",
    "#### 33 is a multiple of 11\n",
    "is_curzon(10) ➞ False\n",
    "#### 2 ** 10 + 1 = 1025\n",
    "#### 2 * 10 + 1 = 21\n",
    "#### 1025 is not a multiple of 21\n",
    "is_curzon(14) ➞ True\n",
    "#### 2 ** 14 + 1 = 16385\n",
    "#### 2 * 14 + 1 = 29\n",
    "#### 16385 is a multiple of 29"
   ]
  },
  {
   "cell_type": "code",
   "execution_count": 13,
   "id": "e9a2422b-4c16-4ab3-b7c1-06e3e08db35a",
   "metadata": {},
   "outputs": [
    {
     "name": "stdin",
     "output_type": "stream",
     "text": [
      "Enter a number:  5\n"
     ]
    },
    {
     "name": "stdout",
     "output_type": "stream",
     "text": [
      "5 is a Curzon Number\n"
     ]
    },
    {
     "name": "stdin",
     "output_type": "stream",
     "text": [
      "Enter a number:  10\n"
     ]
    },
    {
     "name": "stdout",
     "output_type": "stream",
     "text": [
      "10 is Not a Curzon Number\n"
     ]
    },
    {
     "name": "stdin",
     "output_type": "stream",
     "text": [
      "Enter a number:  14\n"
     ]
    },
    {
     "name": "stdout",
     "output_type": "stream",
     "text": [
      "14 is a Curzon Number\n"
     ]
    }
   ],
   "source": [
    "def isCurzon():\n",
    "    num = int(input(\"Enter a number: \"))\n",
    "    if (pow(2,num)+1)%((2*num)+1) == 0:\n",
    "        print(f'{num} is a Curzon Number')\n",
    "    else:\n",
    "        print(f'{num} is Not a Curzon Number')\n",
    "\n",
    "for i in range(3):\n",
    "    isCurzon()"
   ]
  },
  {
   "cell_type": "markdown",
   "id": "f7fafc3e-ac3e-4aaa-902f-0b64257cffd4",
   "metadata": {},
   "source": [
    "## Question 4.\n",
    "#### Given the side length x find the area of a hexagon.\n",
    "\n",
    "Examples\n",
    "#### area_of_hexagon(1) ➞ 2.6\n",
    "#### area_of_hexagon(2) ➞ 10.4\n",
    "#### area_of_hexagon(3) ➞ 23.4"
   ]
  },
  {
   "cell_type": "code",
   "execution_count": 18,
   "id": "a197e0df-2cfb-446c-b0f1-7c9fea7fca31",
   "metadata": {},
   "outputs": [
    {
     "name": "stdin",
     "output_type": "stream",
     "text": [
      "Enter the side of hexagon :  1\n"
     ]
    },
    {
     "name": "stdout",
     "output_type": "stream",
     "text": [
      "Area of hexagon 2.6\n"
     ]
    },
    {
     "name": "stdin",
     "output_type": "stream",
     "text": [
      "Enter the side of hexagon :  2\n"
     ]
    },
    {
     "name": "stdout",
     "output_type": "stream",
     "text": [
      "Area of hexagon 10.4\n"
     ]
    },
    {
     "name": "stdin",
     "output_type": "stream",
     "text": [
      "Enter the side of hexagon :  3\n"
     ]
    },
    {
     "name": "stdout",
     "output_type": "stream",
     "text": [
      "Area of hexagon 23.4\n"
     ]
    }
   ],
   "source": [
    "def areaOfHex():\n",
    "    num = eval(input('Enter the side of hexagon : '))\n",
    "    Area = ((3*math.sqrt(3))/2)*(pow(num,2))\n",
    "    print(f'Area of hexagon {Area:.1f}')\n",
    "\n",
    "for i in range(3):\n",
    "    areaOfHex()"
   ]
  },
  {
   "cell_type": "markdown",
   "id": "2be3a783-90b4-4668-8be4-55f3640fdf53",
   "metadata": {},
   "source": [
    "## Question 5.\n",
    "#### Create a function that returns a base-2 (binary) representation of a base-10 (decimal) string number. To convert is simple: ((2) means base-2 and (10) means base-10)\n",
    "010101001(2) = 1 + 8 + 32 + 128.\n",
    "Going from right to left, the value of the most right bit is 1, now from that every bit to the left\n",
    "will be x2 the value, value of an 8 bit binary numbers are (256, 128, 64, 32, 16, 8, 4, 2, 1).\n",
    "Examples\n",
    "binary(1) ➞ &quot;1&quot;\n",
    "#### 1 * 1 = 1\n",
    "binary(5) ➞ &quot;101&quot;\n",
    "#### 1 * 1 + 1 * 4 = 5\n",
    "binary(10) ➞ &quot;1010&quot;\n",
    "#### 1 * 2 + 1 * 8 = 10"
   ]
  },
  {
   "cell_type": "code",
   "execution_count": 19,
   "id": "ed943b67-d5ab-4733-b202-0d2cd43446cd",
   "metadata": {},
   "outputs": [
    {
     "name": "stdin",
     "output_type": "stream",
     "text": [
      "Enter a Number:  1\n"
     ]
    },
    {
     "name": "stdout",
     "output_type": "stream",
     "text": [
      "Binary of 1 ➞ 1\n"
     ]
    },
    {
     "name": "stdin",
     "output_type": "stream",
     "text": [
      "Enter a Number:  5\n"
     ]
    },
    {
     "name": "stdout",
     "output_type": "stream",
     "text": [
      "Binary of 5 ➞ 101\n"
     ]
    },
    {
     "name": "stdin",
     "output_type": "stream",
     "text": [
      "Enter a Number:  10\n"
     ]
    },
    {
     "name": "stdout",
     "output_type": "stream",
     "text": [
      "Binary of 10 ➞ 1010\n"
     ]
    }
   ],
   "source": [
    "def getBinary():\n",
    "    num = int(input(\"Enter a Number: \"))\n",
    "    result = bin(num).replace('0b','') \n",
    "    print(f'Binary of {num} ➞ {result}')\n",
    "\n",
    "for i in range(3):\n",
    "    getBinary()"
   ]
  },
  {
   "cell_type": "code",
   "execution_count": null,
   "id": "2de71e05-e40e-4273-ba34-a9ab5856d884",
   "metadata": {},
   "outputs": [],
   "source": []
  }
 ],
 "metadata": {
  "kernelspec": {
   "display_name": "Python 3 (ipykernel)",
   "language": "python",
   "name": "python3"
  },
  "language_info": {
   "codemirror_mode": {
    "name": "ipython",
    "version": 3
   },
   "file_extension": ".py",
   "mimetype": "text/x-python",
   "name": "python",
   "nbconvert_exporter": "python",
   "pygments_lexer": "ipython3",
   "version": "3.10.6"
  }
 },
 "nbformat": 4,
 "nbformat_minor": 5
}
