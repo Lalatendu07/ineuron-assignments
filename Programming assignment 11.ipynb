{
 "cells": [
  {
   "cell_type": "markdown",
   "id": "3f22358f",
   "metadata": {},
   "source": [
    "#### 1. Write a Python program to find words which are greater than given length k?"
   ]
  },
  {
   "cell_type": "code",
   "execution_count": 1,
   "id": "1856b372",
   "metadata": {},
   "outputs": [
    {
     "name": "stdout",
     "output_type": "stream",
     "text": [
      "Enter a string : Ineuron Full Stack Data Science Boot Camp\n",
      "Enter the length of word : 4\n",
      "Ineuron, Stack, Science\n"
     ]
    }
   ],
   "source": [
    "string = input('Enter a string : ')\n",
    "length = int(input('Enter the length of word : '))\n",
    "l=[]\n",
    "for i in string.split(' '):\n",
    "    if len(i)>length:\n",
    "        l.append(i)\n",
    "        \n",
    "print(', '.join(l))        "
   ]
  },
  {
   "cell_type": "markdown",
   "id": "6c8daadc",
   "metadata": {},
   "source": [
    "#### 2. Write a Python program for removing i-th character from a string?"
   ]
  },
  {
   "cell_type": "code",
   "execution_count": 2,
   "id": "2ae583d3",
   "metadata": {},
   "outputs": [
    {
     "name": "stdout",
     "output_type": "stream",
     "text": [
      "Enter a string : Programming\n",
      "Enter i-th character : 3\n",
      "Proramming\n"
     ]
    }
   ],
   "source": [
    "string = input('Enter a string : ')\n",
    "i = int(input('Enter i-th character : '))\n",
    "s=''              \n",
    "for n in range(len(string)):\n",
    "     if n!=i:\n",
    "        s+=(string[n])\n",
    "print(s)        \n",
    "              "
   ]
  },
  {
   "cell_type": "markdown",
   "id": "758be59b",
   "metadata": {},
   "source": [
    "#### 3. Write a Python program to split and join a string?"
   ]
  },
  {
   "cell_type": "code",
   "execution_count": 4,
   "id": "0ee24f4e",
   "metadata": {},
   "outputs": [
    {
     "name": "stdout",
     "output_type": "stream",
     "text": [
      "Enter a stringIneuron Full Stack Data Science Boot Camp\n",
      "Split : ['Ineuron', 'Full', 'Stack', 'Data', 'Science', 'Boot', 'Camp']\n",
      "Join : Ineuron Full Stack Data Science Boot Camp\n"
     ]
    }
   ],
   "source": [
    "string = input('Enter a string')\n",
    "print('Split :', string.split(' '))\n",
    "print('Join :', ' '.join(string.split(' ')))"
   ]
  },
  {
   "cell_type": "markdown",
   "id": "c19f0dd3",
   "metadata": {},
   "source": [
    "#### 4. Write a Python to check if a given string is binary string or not?"
   ]
  },
  {
   "cell_type": "code",
   "execution_count": 10,
   "id": "de2ee412",
   "metadata": {},
   "outputs": [
    {
     "name": "stdout",
     "output_type": "stream",
     "text": [
      "Enter a string : 12134\n",
      "12134 is not binary.\n",
      "Enter a string : 1010101\n",
      "1010101 is binary.\n"
     ]
    }
   ],
   "source": [
    "def is_binary():\n",
    "    \n",
    "    num = input('Enter a string : ')\n",
    "    stat=0\n",
    "    for i in num:\n",
    "        if i in ['1','0']:\n",
    "            stat=1\n",
    "            continue\n",
    "        else:\n",
    "            stat=0\n",
    "            break\n",
    "    if stat==1:\n",
    "        print(f'{num} is binary.')\n",
    "    else:\n",
    "        print(f'{num} is not binary.')\n",
    "\n",
    "for i in range(2):\n",
    "    is_binary()"
   ]
  },
  {
   "cell_type": "markdown",
   "id": "1426e9aa",
   "metadata": {},
   "source": [
    "#### 5. Write a Python program to find uncommon words from two Strings?"
   ]
  },
  {
   "cell_type": "code",
   "execution_count": 11,
   "id": "c87b62ce",
   "metadata": {},
   "outputs": [
    {
     "name": "stdout",
     "output_type": "stream",
     "text": [
      "Enter the String 1: Data Science\n",
      "Enter the String 2: Data Analytics\n",
      "{'Analytics', 'Science'}\n"
     ]
    }
   ],
   "source": [
    "string_1 = set(input(\"Enter the String 1: \").split(' '))\n",
    "string_2 = set(input(\"Enter the String 2: \").split(' '))\n",
    "string = (string_1.union(string_2)).difference(string_1.intersection(string_2))\n",
    "print(string)"
   ]
  },
  {
   "cell_type": "markdown",
   "id": "5a0c5ded",
   "metadata": {},
   "source": [
    "#### 6. Write a Python to find all duplicate characters in string?"
   ]
  },
  {
   "cell_type": "code",
   "execution_count": 14,
   "id": "694abe4f",
   "metadata": {},
   "outputs": [
    {
     "name": "stdout",
     "output_type": "stream",
     "text": [
      "Enter a string : Ineuron Full Stack Data Science Boot Camp\n",
      "Duplicates :  ['I', 'n', 'e', 'u', 'r', 'o', ' ', 'F', 'l', 'S', 't', 'a', 'c', 'k', 'D', 'i', 'B', 'C', 'm', 'p']\n"
     ]
    }
   ],
   "source": [
    "string = input('Enter a string : ')\n",
    "duplicate=[]\n",
    "for i in string:\n",
    "    if i not in duplicate:\n",
    "        duplicate.append(i)\n",
    "print('Duplicates : ',duplicate)        "
   ]
  },
  {
   "cell_type": "markdown",
   "id": "dd8fc6c1",
   "metadata": {},
   "source": [
    "#### 7. Write a Python Program to check if a string contains any special character?"
   ]
  },
  {
   "cell_type": "code",
   "execution_count": 15,
   "id": "0a33a333",
   "metadata": {},
   "outputs": [
    {
     "name": "stdout",
     "output_type": "stream",
     "text": [
      "Enter a string : D@ta science *\n",
      "There is a special character in string D@ta science *\n",
      "Enter a string : Data science\n",
      "There is no special character in string Data science\n"
     ]
    }
   ],
   "source": [
    "def check_char():\n",
    "    \n",
    "    spl_char='[`~!@#$%^&*()_<>?/;:|\\]'\n",
    "    string = input('Enter a string : ')\n",
    "    count=0\n",
    "    for i in string:\n",
    "        if i in spl_char:\n",
    "            count=1\n",
    "            break\n",
    "        else:\n",
    "            count=0\n",
    "            continue\n",
    "    if count==0:\n",
    "        print(f'There is no special character in string {string}')\n",
    "    else:\n",
    "        print(f'There is a special character in string {string}')\n",
    "        \n",
    "check_char()\n",
    "check_char()\n",
    "        \n",
    "        "
   ]
  },
  {
   "cell_type": "code",
   "execution_count": null,
   "id": "c9229aab",
   "metadata": {},
   "outputs": [],
   "source": []
  }
 ],
 "metadata": {
  "kernelspec": {
   "display_name": "Python 3 (ipykernel)",
   "language": "python",
   "name": "python3"
  },
  "language_info": {
   "codemirror_mode": {
    "name": "ipython",
    "version": 3
   },
   "file_extension": ".py",
   "mimetype": "text/x-python",
   "name": "python",
   "nbconvert_exporter": "python",
   "pygments_lexer": "ipython3",
   "version": "3.9.12"
  }
 },
 "nbformat": 4,
 "nbformat_minor": 5
}
