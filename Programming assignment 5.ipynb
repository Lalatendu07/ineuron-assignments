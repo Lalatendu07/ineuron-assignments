{
 "cells": [
  {
   "cell_type": "markdown",
   "id": "5eecd9ef",
   "metadata": {},
   "source": [
    "#### 1. Write a Python Program to Find LCM?"
   ]
  },
  {
   "cell_type": "code",
   "execution_count": 1,
   "id": "c5fbbf62",
   "metadata": {},
   "outputs": [
    {
     "name": "stdout",
     "output_type": "stream",
     "text": [
      "Enter 1st number5\n",
      "Enter 2nd number3\n",
      "The L.C.M. is : 15\n"
     ]
    }
   ],
   "source": [
    "def find_lcm(x, y):\n",
    "    if x > y:\n",
    "        greater = x\n",
    "    else:\n",
    "        greater = y\n",
    "\n",
    "    while(True):\n",
    "        if((greater % x == 0) and (greater % y == 0)):\n",
    "            lcm = greater\n",
    "            break\n",
    "        greater += 1\n",
    "\n",
    "    return lcm\n",
    "\n",
    "num1 = int(input('Enter 1st number'))\n",
    "num2 = int(input('Enter 2nd number'))\n",
    "\n",
    "print(\"The L.C.M. is :\", find_lcm(num1, num2))"
   ]
  },
  {
   "cell_type": "markdown",
   "id": "9bddea08",
   "metadata": {},
   "source": [
    "#### 2. Write a Python Program to Find HCF?"
   ]
  },
  {
   "cell_type": "code",
   "execution_count": 4,
   "id": "d204e9f7",
   "metadata": {},
   "outputs": [
    {
     "name": "stdout",
     "output_type": "stream",
     "text": [
      "Enter 1st number8\n",
      "Enter 2nd number16\n",
      "The HCF is : 8\n"
     ]
    }
   ],
   "source": [
    "def find_HCF(x,y):\n",
    "    if x > y:\n",
    "        smaller=y\n",
    "    else:\n",
    "        smaller=x\n",
    "    for i in range(1,smaller+1):\n",
    "        if (x % i==0) and (y % i==0):\n",
    "            hcf = i\n",
    "    return hcf\n",
    "\n",
    "n1 = int(input('Enter 1st number'))\n",
    "n2 = int(input('Enter 2nd number'))\n",
    "\n",
    "print('The HCF is :',find_HCF(n1,n2))\n",
    "        "
   ]
  },
  {
   "cell_type": "markdown",
   "id": "e941043c",
   "metadata": {},
   "source": [
    "#### 3. Write a Python Program to Convert Decimal to Binary, Octal and Hexadecimal?"
   ]
  },
  {
   "cell_type": "code",
   "execution_count": 5,
   "id": "8d8aff1b",
   "metadata": {},
   "outputs": [
    {
     "name": "stdout",
     "output_type": "stream",
     "text": [
      "Enter a number4391\n",
      "Binary : 0b1000100100111\n",
      "Octal : 0o10447\n",
      "Hexadecial : 0x1127\n"
     ]
    }
   ],
   "source": [
    "num = int(input('Enter a number'))\n",
    "print('Binary :',bin(num))\n",
    "print('Octal :',oct(num))\n",
    "print('Hexadecial :',hex(num))"
   ]
  },
  {
   "cell_type": "markdown",
   "id": "f8014149",
   "metadata": {},
   "source": [
    "#### 4. Write a Python Program To Find ASCII value of a character?"
   ]
  },
  {
   "cell_type": "code",
   "execution_count": 6,
   "id": "bbc71787",
   "metadata": {},
   "outputs": [
    {
     "name": "stdout",
     "output_type": "stream",
     "text": [
      "Enter a char :$\n",
      "ASCII value of $ is 36\n"
     ]
    }
   ],
   "source": [
    "def ASCII_value():\n",
    "    ch = input('Enter a char :')\n",
    "    if len(ch)>1 :\n",
    "        print('Please enter single character')\n",
    "    else:\n",
    "        print(f'ASCII value of {ch} is {ord(ch)}')\n",
    "\n",
    "ASCII_value()        "
   ]
  },
  {
   "cell_type": "markdown",
   "id": "204767fa",
   "metadata": {},
   "source": [
    "#### 5. Write a Python Program to Make a Simple Calculator with 4 basic mathematical operations?"
   ]
  },
  {
   "cell_type": "code",
   "execution_count": 14,
   "id": "4ff05eb6",
   "metadata": {},
   "outputs": [
    {
     "name": "stdout",
     "output_type": "stream",
     "text": [
      "Enter 1st number : 500\n",
      "Enter the mathematical operator : +\n",
      "Enter 2nd number : 250\n",
      "500 + 250 = 750 \n",
      "\n",
      "Enter 1st number : 600\n",
      "Enter the mathematical operator : -\n",
      "Enter 2nd number : 300\n",
      "600 - 300 = 300 \n",
      "\n",
      "Enter 1st number : 1000\n",
      "Enter the mathematical operator : /\n",
      "Enter 2nd number : 5\n",
      "1000 / 5 = 200 \n",
      "\n",
      "Enter 1st number : 77\n",
      "Enter the mathematical operator : *\n",
      "Enter 2nd number : 7\n",
      "77 x 7 = 539 \n",
      "\n",
      "Enter 1st number : 345\n",
      "Enter the mathematical operator : $\n",
      "Enter 2nd number : 34\n",
      "Invalid operator\n"
     ]
    }
   ],
   "source": [
    "def simple_calculator():\n",
    "    n1 = int(input('Enter 1st number : '))\n",
    "    ch = input('Enter the mathematical operator : ')\n",
    "    n2 = int(input('Enter 2nd number : '))\n",
    "    \n",
    "    if ch=='+':\n",
    "        print(n1,'+',n2,'=',n1+n2,'\\n')\n",
    "    elif ch=='-':\n",
    "        print(n1,'-',n2,'=',n1-n2,'\\n')\n",
    "    elif ch=='/':\n",
    "        print(n1,'/',n2,'=',n1//n2,'\\n')\n",
    "    elif ch=='*':\n",
    "        print(n1,'x',n2,'=',n1*n2,'\\n')\n",
    "    else:\n",
    "        print('Invalid operator')\n",
    "\n",
    "for i in range(5):\n",
    "    simple_calculator()        "
   ]
  },
  {
   "cell_type": "code",
   "execution_count": null,
   "id": "602476bc",
   "metadata": {},
   "outputs": [],
   "source": []
  }
 ],
 "metadata": {
  "kernelspec": {
   "display_name": "Python 3 (ipykernel)",
   "language": "python",
   "name": "python3"
  },
  "language_info": {
   "codemirror_mode": {
    "name": "ipython",
    "version": 3
   },
   "file_extension": ".py",
   "mimetype": "text/x-python",
   "name": "python",
   "nbconvert_exporter": "python",
   "pygments_lexer": "ipython3",
   "version": "3.9.12"
  }
 },
 "nbformat": 4,
 "nbformat_minor": 5
}
