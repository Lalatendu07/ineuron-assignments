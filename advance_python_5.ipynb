{
  "nbformat": 4,
  "nbformat_minor": 0,
  "metadata": {
    "colab": {
      "provenance": []
    },
    "kernelspec": {
      "name": "python3",
      "display_name": "Python 3"
    },
    "language_info": {
      "name": "python"
    }
  },
  "cells": [
    {
      "cell_type": "markdown",
      "source": [
        "#### Q1. What is the meaning of multiple inheritance?\n",
        "Ans: Inheritence is nothing but reusing the code of Parent class by the child class. Similary when a child class inherits its properties from multiple Parent classes this scenario is called Multiple Inheritence."
      ],
      "metadata": {
        "id": "1EQjzxkjdhwK"
      }
    },
    {
      "cell_type": "markdown",
      "source": [
        "#### Q2. What is the concept of delegation?\n",
        "Ans: Delegation provides a proxy object for any class that you want on top of the main class, its like a wrapper to your class so that you can access limited resources of the main class.\n",
        "\n",
        "It wraps the object of main class into a smaller object with limited access.\n",
        "\n",
        "Simply Delegation means that you can include a instance of another class as an instance variable, and forward messages to the instance."
      ],
      "metadata": {
        "id": "2J8ohIpqdpzZ"
      }
    },
    {
      "cell_type": "markdown",
      "source": [
        "#### Q3. What is the concept of composition?\n",
        "Ans: In the concept of composition, a class refers to one or more other classes by using instances of those classes as a instance variable. Irrespective of inheritence in this approach all the parent class members are not inherited into child class, but only required methods from a class are used by using class instances."
      ],
      "metadata": {
        "id": "KILN4H_sdx0E"
      }
    },
    {
      "cell_type": "markdown",
      "source": [
        "#### Q4. What are bound methods and how do we use them?\n",
        "Ans: If a function is an attribute of class and it is accessed via the instances, they are called bound methods. A bound method is one that has self as its first argument. Since these are dependent on the instance of classes, these are also known as instance methods."
      ],
      "metadata": {
        "id": "TDBbbYCXd0-f"
      }
    },
    {
      "cell_type": "markdown",
      "source": [
        "#### Q5. What is the purpose of pseudoprivate attributes?\n",
        "Ans: Pseudoprivate attributes are also useful in larger frameworks or tools, both to avoid introducing new method names that might accidentally hide definitions elsewhere in the class tree and to reduce the chance of internal methods being replaced by names defined lower in the tree. If a method is intended for use only within a class that may be mixed into other classes, the double underscore prefix ensures that the method won't interfere with other names in the tree, especially in multiple-inheritance scenarios.\n",
        "\n",
        "Pseudoprivate names also prevent subclasses from accidentally redefining the internal method's names."
      ],
      "metadata": {
        "id": "2EtBOG_md7c2"
      }
    },
    {
      "cell_type": "code",
      "source": [],
      "metadata": {
        "id": "1uIjCS3tYlhE"
      },
      "execution_count": null,
      "outputs": []
    }
  ]
}