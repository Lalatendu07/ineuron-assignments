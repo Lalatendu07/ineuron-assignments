{
 "cells": [
  {
   "cell_type": "markdown",
   "id": "0757c302",
   "metadata": {},
   "source": [
    "#### 1. Write a Python Program to find sum of array?"
   ]
  },
  {
   "cell_type": "code",
   "execution_count": 1,
   "id": "9c337f50",
   "metadata": {},
   "outputs": [
    {
     "name": "stdout",
     "output_type": "stream",
     "text": [
      "enter the array : [1,2,3,4,5,6,7]\n",
      "The sum of [1, 2, 3, 4, 5, 6, 7] is 28\n"
     ]
    }
   ],
   "source": [
    "arr=eval(input('enter the array : '))\n",
    "print(f'The sum of {arr} is {sum(arr)}')"
   ]
  },
  {
   "cell_type": "markdown",
   "id": "9fa5cfc3",
   "metadata": {},
   "source": [
    "#### 2. Write a Python Program to find largest element in an array?"
   ]
  },
  {
   "cell_type": "code",
   "execution_count": 3,
   "id": "e0a34220",
   "metadata": {},
   "outputs": [
    {
     "name": "stdout",
     "output_type": "stream",
     "text": [
      "Enter the array : [3,4,2,7,1,5]\n",
      "The largest element in array [3, 4, 2, 7, 1, 5] is 7\n"
     ]
    }
   ],
   "source": [
    "ar=eval(input('Enter the array : '))\n",
    "print(f'The largest element in array {ar} is {max(ar)}')"
   ]
  },
  {
   "cell_type": "markdown",
   "id": "a42363cc",
   "metadata": {},
   "source": [
    "#### 3. Write a Python Program for array rotation?"
   ]
  },
  {
   "cell_type": "code",
   "execution_count": 4,
   "id": "3e0f3146",
   "metadata": {},
   "outputs": [
    {
     "name": "stdout",
     "output_type": "stream",
     "text": [
      "Enter the array : [10,20,30,40,50,60]\n",
      "Before rotation : [10, 20, 30, 40, 50, 60] , After rotation : [60, 50, 40, 30, 20, 10]\n"
     ]
    }
   ],
   "source": [
    "ar = eval(input('Enter the array : '))\n",
    "print(f'Before rotation : {ar} , After rotation : {ar[::-1]}')"
   ]
  },
  {
   "cell_type": "markdown",
   "id": "d5e2f738",
   "metadata": {},
   "source": [
    "#### 4. Write a Python Program to Split the array and add the first part to the end?"
   ]
  },
  {
   "cell_type": "code",
   "execution_count": 12,
   "id": "35c88802",
   "metadata": {},
   "outputs": [
    {
     "name": "stdout",
     "output_type": "stream",
     "text": [
      "Enter the array : [3,4,5,6,7]\n",
      "array : [3, 4, 5, 6, 7] sum first with last is 10\n"
     ]
    }
   ],
   "source": [
    "ar = eval(input('Enter the array : '))\n",
    "print(f'array : {ar} sum first with last is {ar[0]+ar[-1]}')"
   ]
  },
  {
   "cell_type": "markdown",
   "id": "fb9fde18",
   "metadata": {},
   "source": [
    "#### 5. Write a Python Program to check if given array is Monotonic?"
   ]
  },
  {
   "cell_type": "code",
   "execution_count": 23,
   "id": "210e40ff",
   "metadata": {},
   "outputs": [
    {
     "name": "stdout",
     "output_type": "stream",
     "text": [
      "Enter the array : [1,2,3,4,5,6]\n",
      "Monotonic\n",
      "Enter the array : [3,4,2,1,5]\n",
      "Not monotonic\n"
     ]
    }
   ],
   "source": [
    "def monotonic():\n",
    "    ar=eval(input('Enter the array : '))\n",
    "    if (all(ar[i]<=ar[i+1] for i in range(len(ar)-1)) or all(ar[i]>=ar[i+1] for i in range(len(ar)-1))):\n",
    "        print('Monotonic')\n",
    "    else:\n",
    "        print('Not monotonic')\n",
    "            \n",
    "monotonic()\n",
    "monotonic()"
   ]
  },
  {
   "cell_type": "code",
   "execution_count": null,
   "id": "8684b0b0",
   "metadata": {},
   "outputs": [],
   "source": []
  }
 ],
 "metadata": {
  "kernelspec": {
   "display_name": "Python 3 (ipykernel)",
   "language": "python",
   "name": "python3"
  },
  "language_info": {
   "codemirror_mode": {
    "name": "ipython",
    "version": 3
   },
   "file_extension": ".py",
   "mimetype": "text/x-python",
   "name": "python",
   "nbconvert_exporter": "python",
   "pygments_lexer": "ipython3",
   "version": "3.9.12"
  }
 },
 "nbformat": 4,
 "nbformat_minor": 5
}
